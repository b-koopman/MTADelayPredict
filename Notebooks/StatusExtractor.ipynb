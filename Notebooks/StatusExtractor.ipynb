{
 "cells": [
  {
   "cell_type": "markdown",
   "metadata": {},
   "source": [
    "# Extract MTA Data from archives\n",
    "\n",
    "This notebook helps automate extracting data from the protobufs manually downloaded from [Historical GTFS data](http://web.mta.info/developers/data/archives.html)the latest source suggested at:\n",
    "https://groups.google.com/d/msg/mtadeveloperresources/Whm5XTVINcE/z-LO12ANAAAJ\n",
    "\n",
    "Note that another S3 hosted [historical datasource](http://web.mta.info/developers/MTA-Subway-Time-historical-data.html) referenced on the MTA website, but this is outdated, and the above MTA Alert Archive is correct.\n",
    "\n",
    "NOTE: This notebook assumes that the protobufs have already been downloaded to <code>data/raw/status</code> e.g. <code>data/raw/status/201901.zip</code> from http://web.mta.info/developers/data/archives.html"
   ]
  },
  {
   "cell_type": "code",
   "execution_count": 1,
   "metadata": {},
   "outputs": [],
   "source": [
    "import os\n",
    "import pandas as pd\n",
    "import sys\n",
    "data_dir = '/data/raw/status'"
   ]
  },
  {
   "cell_type": "code",
   "execution_count": 2,
   "metadata": {},
   "outputs": [
    {
     "ename": "ValueError",
     "evalue": "No matching protbufs found in {}, please download from https://m.mymtaalerts.com/archive",
     "output_type": "error",
     "traceback": [
      "\u001b[0;31m---------------------------------------------------------------------------\u001b[0m",
      "\u001b[0;31mValueError\u001b[0m                                Traceback (most recent call last)",
      "\u001b[0;32m<ipython-input-2-7c58fee2a39d>\u001b[0m in \u001b[0;36m<module>\u001b[0;34m\u001b[0m\n\u001b[1;32m      3\u001b[0m \u001b[0;34m\u001b[0m\u001b[0m\n\u001b[1;32m      4\u001b[0m \u001b[0;32mif\u001b[0m \u001b[0mlen\u001b[0m\u001b[0;34m(\u001b[0m\u001b[0mprotobuf_paths\u001b[0m\u001b[0;34m)\u001b[0m \u001b[0;34m==\u001b[0m \u001b[0;36m0\u001b[0m\u001b[0;34m:\u001b[0m\u001b[0;34m\u001b[0m\u001b[0;34m\u001b[0m\u001b[0m\n\u001b[0;32m----> 5\u001b[0;31m     \u001b[0;32mraise\u001b[0m \u001b[0mValueError\u001b[0m\u001b[0;34m(\u001b[0m\u001b[0;34m'No matching protbufs found in {}, please download from https://m.mymtaalerts.com/archive'\u001b[0m\u001b[0;34m)\u001b[0m\u001b[0;34m\u001b[0m\u001b[0;34m\u001b[0m\u001b[0m\n\u001b[0m\u001b[1;32m      6\u001b[0m \u001b[0;34m\u001b[0m\u001b[0m\n\u001b[1;32m      7\u001b[0m \u001b[0mprint\u001b[0m\u001b[0;34m(\u001b[0m\u001b[0mprotobuf_paths\u001b[0m\u001b[0;34m)\u001b[0m\u001b[0;34m\u001b[0m\u001b[0;34m\u001b[0m\u001b[0m\n",
      "\u001b[0;31mValueError\u001b[0m: No matching protbufs found in {}, please download from https://m.mymtaalerts.com/archive"
     ]
    }
   ],
   "source": [
    "import glob\n",
    "protobuf_paths = glob.glob('{}/[0-9]*.zip'.format(data_dir))\n",
    "\n",
    "if len(protobuf_paths) == 0:\n",
    "    raise ValueError('No matching protbufs found in {}, please download from https://m.mymtaalerts.com/archive')\n",
    "    \n",
    "print(protobuf_paths)"
   ]
  },
  {
   "cell_type": "markdown",
   "metadata": {},
   "source": [
    "### Helper cell for recursively unzipping monthly rollups\n",
    "This is a bit finnicky, as the layout and zip format vary from month-to month, but this is a helpful tool for unzipping some of the.  This will fail for a handful of the monthly archives, and you will either need to modify it, or manually handle those cases.  Especially watch out for <code>201812.zip</code>, as that contains <code>201812.7z</code>\n",
    "\n",
    "Additionally, there are a small number of corrupted daily zips, so this absorbs and logs those errors."
   ]
  },
  {
   "cell_type": "code",
   "execution_count": 3,
   "metadata": {},
   "outputs": [],
   "source": [
    "import zipfile\n",
    "import shutil\n",
    "import progressbar\n",
    "import io"
   ]
  },
  {
   "cell_type": "code",
   "execution_count": 4,
   "metadata": {},
   "outputs": [
    {
     "name": "stdout",
     "output_type": "stream",
     "text": [
      "Extracting: ../data/raw/status/201906.zip\n",
      "1/30\n",
      "Skipping 20190601\n",
      "2/30\n"
     ]
    },
    {
     "ename": "KeyboardInterrupt",
     "evalue": "",
     "output_type": "error",
     "traceback": [
      "\u001b[0;31m---------------------------------------------------------------------------\u001b[0m",
      "\u001b[0;31mKeyboardInterrupt\u001b[0m                         Traceback (most recent call last)",
      "\u001b[0;32m<ipython-input-4-f134c6e00798>\u001b[0m in \u001b[0;36m<module>\u001b[0;34m\u001b[0m\n\u001b[1;32m     21\u001b[0m         \u001b[0mos\u001b[0m\u001b[0;34m.\u001b[0m\u001b[0mmakedirs\u001b[0m\u001b[0;34m(\u001b[0m\u001b[0mdirname\u001b[0m\u001b[0;34m,\u001b[0m \u001b[0mexist_ok\u001b[0m\u001b[0;34m=\u001b[0m\u001b[0;32mTrue\u001b[0m\u001b[0;34m)\u001b[0m\u001b[0;34m\u001b[0m\u001b[0;34m\u001b[0m\u001b[0m\n\u001b[1;32m     22\u001b[0m         \u001b[0;31m# read inner zip file into bytes buffer\u001b[0m\u001b[0;34m\u001b[0m\u001b[0;34m\u001b[0m\u001b[0;34m\u001b[0m\u001b[0m\n\u001b[0;32m---> 23\u001b[0;31m         \u001b[0mcontent\u001b[0m \u001b[0;34m=\u001b[0m \u001b[0mio\u001b[0m\u001b[0;34m.\u001b[0m\u001b[0mBytesIO\u001b[0m\u001b[0;34m(\u001b[0m\u001b[0mz\u001b[0m\u001b[0;34m.\u001b[0m\u001b[0mread\u001b[0m\u001b[0;34m(\u001b[0m\u001b[0mf\u001b[0m\u001b[0;34m)\u001b[0m\u001b[0;34m)\u001b[0m\u001b[0;34m\u001b[0m\u001b[0;34m\u001b[0m\u001b[0m\n\u001b[0m\u001b[1;32m     24\u001b[0m         \u001b[0mzip_file\u001b[0m \u001b[0;34m=\u001b[0m \u001b[0mzipfile\u001b[0m\u001b[0;34m.\u001b[0m\u001b[0mZipFile\u001b[0m\u001b[0;34m(\u001b[0m\u001b[0mcontent\u001b[0m\u001b[0;34m)\u001b[0m\u001b[0;34m\u001b[0m\u001b[0;34m\u001b[0m\u001b[0m\n\u001b[1;32m     25\u001b[0m \u001b[0;34m\u001b[0m\u001b[0m\n",
      "\u001b[0;32m/miniconda3/lib/python3.6/zipfile.py\u001b[0m in \u001b[0;36mread\u001b[0;34m(self, name, pwd)\u001b[0m\n\u001b[1;32m   1336\u001b[0m         \u001b[0;34m\"\"\"Return file bytes (as a string) for name.\"\"\"\u001b[0m\u001b[0;34m\u001b[0m\u001b[0;34m\u001b[0m\u001b[0m\n\u001b[1;32m   1337\u001b[0m         \u001b[0;32mwith\u001b[0m \u001b[0mself\u001b[0m\u001b[0;34m.\u001b[0m\u001b[0mopen\u001b[0m\u001b[0;34m(\u001b[0m\u001b[0mname\u001b[0m\u001b[0;34m,\u001b[0m \u001b[0;34m\"r\"\u001b[0m\u001b[0;34m,\u001b[0m \u001b[0mpwd\u001b[0m\u001b[0;34m)\u001b[0m \u001b[0;32mas\u001b[0m \u001b[0mfp\u001b[0m\u001b[0;34m:\u001b[0m\u001b[0;34m\u001b[0m\u001b[0;34m\u001b[0m\u001b[0m\n\u001b[0;32m-> 1338\u001b[0;31m             \u001b[0;32mreturn\u001b[0m \u001b[0mfp\u001b[0m\u001b[0;34m.\u001b[0m\u001b[0mread\u001b[0m\u001b[0;34m(\u001b[0m\u001b[0;34m)\u001b[0m\u001b[0;34m\u001b[0m\u001b[0;34m\u001b[0m\u001b[0m\n\u001b[0m\u001b[1;32m   1339\u001b[0m \u001b[0;34m\u001b[0m\u001b[0m\n\u001b[1;32m   1340\u001b[0m     \u001b[0;32mdef\u001b[0m \u001b[0mopen\u001b[0m\u001b[0;34m(\u001b[0m\u001b[0mself\u001b[0m\u001b[0;34m,\u001b[0m \u001b[0mname\u001b[0m\u001b[0;34m,\u001b[0m \u001b[0mmode\u001b[0m\u001b[0;34m=\u001b[0m\u001b[0;34m\"r\"\u001b[0m\u001b[0;34m,\u001b[0m \u001b[0mpwd\u001b[0m\u001b[0;34m=\u001b[0m\u001b[0;32mNone\u001b[0m\u001b[0;34m,\u001b[0m \u001b[0;34m*\u001b[0m\u001b[0;34m,\u001b[0m \u001b[0mforce_zip64\u001b[0m\u001b[0;34m=\u001b[0m\u001b[0;32mFalse\u001b[0m\u001b[0;34m)\u001b[0m\u001b[0;34m:\u001b[0m\u001b[0;34m\u001b[0m\u001b[0;34m\u001b[0m\u001b[0m\n",
      "\u001b[0;32m/miniconda3/lib/python3.6/zipfile.py\u001b[0m in \u001b[0;36mread\u001b[0;34m(self, n)\u001b[0m\n\u001b[1;32m    856\u001b[0m             \u001b[0mself\u001b[0m\u001b[0;34m.\u001b[0m\u001b[0m_offset\u001b[0m \u001b[0;34m=\u001b[0m \u001b[0;36m0\u001b[0m\u001b[0;34m\u001b[0m\u001b[0;34m\u001b[0m\u001b[0m\n\u001b[1;32m    857\u001b[0m             \u001b[0;32mwhile\u001b[0m \u001b[0;32mnot\u001b[0m \u001b[0mself\u001b[0m\u001b[0;34m.\u001b[0m\u001b[0m_eof\u001b[0m\u001b[0;34m:\u001b[0m\u001b[0;34m\u001b[0m\u001b[0;34m\u001b[0m\u001b[0m\n\u001b[0;32m--> 858\u001b[0;31m                 \u001b[0mbuf\u001b[0m \u001b[0;34m+=\u001b[0m \u001b[0mself\u001b[0m\u001b[0;34m.\u001b[0m\u001b[0m_read1\u001b[0m\u001b[0;34m(\u001b[0m\u001b[0mself\u001b[0m\u001b[0;34m.\u001b[0m\u001b[0mMAX_N\u001b[0m\u001b[0;34m)\u001b[0m\u001b[0;34m\u001b[0m\u001b[0;34m\u001b[0m\u001b[0m\n\u001b[0m\u001b[1;32m    859\u001b[0m             \u001b[0;32mreturn\u001b[0m \u001b[0mbuf\u001b[0m\u001b[0;34m\u001b[0m\u001b[0;34m\u001b[0m\u001b[0m\n\u001b[1;32m    860\u001b[0m \u001b[0;34m\u001b[0m\u001b[0m\n",
      "\u001b[0;32m/miniconda3/lib/python3.6/zipfile.py\u001b[0m in \u001b[0;36m_read1\u001b[0;34m(self, n)\u001b[0m\n\u001b[1;32m    940\u001b[0m                 \u001b[0mdata\u001b[0m \u001b[0;34m+=\u001b[0m \u001b[0mself\u001b[0m\u001b[0;34m.\u001b[0m\u001b[0m_read2\u001b[0m\u001b[0;34m(\u001b[0m\u001b[0mn\u001b[0m \u001b[0;34m-\u001b[0m \u001b[0mlen\u001b[0m\u001b[0;34m(\u001b[0m\u001b[0mdata\u001b[0m\u001b[0;34m)\u001b[0m\u001b[0;34m)\u001b[0m\u001b[0;34m\u001b[0m\u001b[0;34m\u001b[0m\u001b[0m\n\u001b[1;32m    941\u001b[0m         \u001b[0;32melse\u001b[0m\u001b[0;34m:\u001b[0m\u001b[0;34m\u001b[0m\u001b[0;34m\u001b[0m\u001b[0m\n\u001b[0;32m--> 942\u001b[0;31m             \u001b[0mdata\u001b[0m \u001b[0;34m=\u001b[0m \u001b[0mself\u001b[0m\u001b[0;34m.\u001b[0m\u001b[0m_read2\u001b[0m\u001b[0;34m(\u001b[0m\u001b[0mn\u001b[0m\u001b[0;34m)\u001b[0m\u001b[0;34m\u001b[0m\u001b[0;34m\u001b[0m\u001b[0m\n\u001b[0m\u001b[1;32m    943\u001b[0m \u001b[0;34m\u001b[0m\u001b[0m\n\u001b[1;32m    944\u001b[0m         \u001b[0;32mif\u001b[0m \u001b[0mself\u001b[0m\u001b[0;34m.\u001b[0m\u001b[0m_compress_type\u001b[0m \u001b[0;34m==\u001b[0m \u001b[0mZIP_STORED\u001b[0m\u001b[0;34m:\u001b[0m\u001b[0;34m\u001b[0m\u001b[0;34m\u001b[0m\u001b[0m\n",
      "\u001b[0;32m/miniconda3/lib/python3.6/zipfile.py\u001b[0m in \u001b[0;36m_read2\u001b[0;34m(self, n)\u001b[0m\n\u001b[1;32m    970\u001b[0m         \u001b[0mn\u001b[0m \u001b[0;34m=\u001b[0m \u001b[0mmin\u001b[0m\u001b[0;34m(\u001b[0m\u001b[0mn\u001b[0m\u001b[0;34m,\u001b[0m \u001b[0mself\u001b[0m\u001b[0;34m.\u001b[0m\u001b[0m_compress_left\u001b[0m\u001b[0;34m)\u001b[0m\u001b[0;34m\u001b[0m\u001b[0;34m\u001b[0m\u001b[0m\n\u001b[1;32m    971\u001b[0m \u001b[0;34m\u001b[0m\u001b[0m\n\u001b[0;32m--> 972\u001b[0;31m         \u001b[0mdata\u001b[0m \u001b[0;34m=\u001b[0m \u001b[0mself\u001b[0m\u001b[0;34m.\u001b[0m\u001b[0m_fileobj\u001b[0m\u001b[0;34m.\u001b[0m\u001b[0mread\u001b[0m\u001b[0;34m(\u001b[0m\u001b[0mn\u001b[0m\u001b[0;34m)\u001b[0m\u001b[0;34m\u001b[0m\u001b[0;34m\u001b[0m\u001b[0m\n\u001b[0m\u001b[1;32m    973\u001b[0m         \u001b[0mself\u001b[0m\u001b[0;34m.\u001b[0m\u001b[0m_compress_left\u001b[0m \u001b[0;34m-=\u001b[0m \u001b[0mlen\u001b[0m\u001b[0;34m(\u001b[0m\u001b[0mdata\u001b[0m\u001b[0;34m)\u001b[0m\u001b[0;34m\u001b[0m\u001b[0;34m\u001b[0m\u001b[0m\n\u001b[1;32m    974\u001b[0m         \u001b[0;32mif\u001b[0m \u001b[0;32mnot\u001b[0m \u001b[0mdata\u001b[0m\u001b[0;34m:\u001b[0m\u001b[0;34m\u001b[0m\u001b[0;34m\u001b[0m\u001b[0m\n",
      "\u001b[0;32m/miniconda3/lib/python3.6/zipfile.py\u001b[0m in \u001b[0;36mread\u001b[0;34m(self, n)\u001b[0m\n\u001b[1;32m    727\u001b[0m                         \"Close the writing handle before trying to read.\")\n\u001b[1;32m    728\u001b[0m             \u001b[0mself\u001b[0m\u001b[0;34m.\u001b[0m\u001b[0m_file\u001b[0m\u001b[0;34m.\u001b[0m\u001b[0mseek\u001b[0m\u001b[0;34m(\u001b[0m\u001b[0mself\u001b[0m\u001b[0;34m.\u001b[0m\u001b[0m_pos\u001b[0m\u001b[0;34m)\u001b[0m\u001b[0;34m\u001b[0m\u001b[0;34m\u001b[0m\u001b[0m\n\u001b[0;32m--> 729\u001b[0;31m             \u001b[0mdata\u001b[0m \u001b[0;34m=\u001b[0m \u001b[0mself\u001b[0m\u001b[0;34m.\u001b[0m\u001b[0m_file\u001b[0m\u001b[0;34m.\u001b[0m\u001b[0mread\u001b[0m\u001b[0;34m(\u001b[0m\u001b[0mn\u001b[0m\u001b[0;34m)\u001b[0m\u001b[0;34m\u001b[0m\u001b[0;34m\u001b[0m\u001b[0m\n\u001b[0m\u001b[1;32m    730\u001b[0m             \u001b[0mself\u001b[0m\u001b[0;34m.\u001b[0m\u001b[0m_pos\u001b[0m \u001b[0;34m=\u001b[0m \u001b[0mself\u001b[0m\u001b[0;34m.\u001b[0m\u001b[0m_file\u001b[0m\u001b[0;34m.\u001b[0m\u001b[0mtell\u001b[0m\u001b[0;34m(\u001b[0m\u001b[0;34m)\u001b[0m\u001b[0;34m\u001b[0m\u001b[0;34m\u001b[0m\u001b[0m\n\u001b[1;32m    731\u001b[0m             \u001b[0;32mreturn\u001b[0m \u001b[0mdata\u001b[0m\u001b[0;34m\u001b[0m\u001b[0;34m\u001b[0m\u001b[0m\n",
      "\u001b[0;31mKeyboardInterrupt\u001b[0m: "
     ]
    }
   ],
   "source": [
    "\n",
    "\n",
    "# Keep a list of files with failed extractions\n",
    "failed_files = os.path.join(data_dir, 'failures.txt')\n",
    "\n",
    "force = False\n",
    "\n",
    "# unzip monthly rollups, then unzip the daily files inside\n",
    "# This code is largely copied from: https://stackoverflow.com/questions/36285502/how-to-extract-zip-file-recursively-in-python\n",
    "# The daily zipfiles are ~1GB, so there are big speed gains from unzipping in memory\n",
    "#for monthly_file in protobuf_paths[-1:]:\n",
    "for monthly_file in ['../data/raw/status/201906.zip',]:\n",
    "    widgets = [progressbar.Percentage(), progressbar.Bar(), progressbar.Variable('failures')]    \n",
    "\n",
    "    \n",
    "    print(\"Extracting: \" + monthly_file)\n",
    "    z = zipfile.ZipFile(monthly_file)\n",
    "    for i,f in enumerate(z.namelist()):\n",
    "        print(\"{}/{}\".format(i+1, len(z.namelist())))\n",
    "        # get directory name from file\n",
    "        dirname = os.path.join(data_dir, os.path.splitext(f)[0])\n",
    "        # create new directory\n",
    "        os.makedirs(dirname, exist_ok=True)\n",
    "        # read inner zip file into bytes buffer \n",
    "        content = io.BytesIO(z.read(f))\n",
    "        zip_file = zipfile.ZipFile(content)\n",
    "        \n",
    "        # Skip if already unzipped\n",
    "        if not force:\n",
    "            if len(glob.glob(dirname+'/*')) == len(zip_file.namelist()):\n",
    "                print(\"Skipping \" + os.path.basename(dirname))\n",
    "                continue\n",
    "         \n",
    "        # Iterate through in-memory zipfile, dumping sub-minutely protobufs into daily directories\n",
    "        bar = progressbar.ProgressBar(widgets=widgets, max_value=len(zip_file.namelist()), min_poll_interval=.5).start()\n",
    "        failures = 0\n",
    "        for j,f2 in enumerate(zip_file.namelist()):\n",
    "            try:\n",
    "                zip_file.extract(f2, dirname)\n",
    "            except Exception as e:\n",
    "                # At the moment, some messages a sporadically unable to parse\n",
    "                with io.open(failed_files, 'a') as fh:\n",
    "                    fh.write(f2+'\\n')\n",
    "                failures += 1\n",
    "                \n",
    "            sys.stdout.flush()\n",
    "            bar.update(j+1, failures=failures)\n",
    "        zip_file.close()\n",
    "        \n",
    "        bar.finish()\n",
    "    \n",
    "    "
   ]
  },
  {
   "cell_type": "markdown",
   "metadata": {},
   "source": [
    "# Extract GTFS into H5\n",
    "Extract relevant info from GTFS files to H5.  Right now this is just extracting the current train in a station at a given time, and information about which train is expected to arrive next, and when.  It is possible that more information will be added, but this is too heavy-weight to include in [DatExploration.ipynb](DataExploration.ipyny), and should only be run as part of data processing"
   ]
  },
  {
   "cell_type": "code",
   "execution_count": 15,
   "metadata": {},
   "outputs": [],
   "source": [
    "from functools import lru_cache"
   ]
  },
  {
   "cell_type": "code",
   "execution_count": 16,
   "metadata": {},
   "outputs": [
    {
     "data": {
      "text/plain": [
       "<module 'MTADelayPredict.data_processing.gtfs_loader' from '/opt/project/MTADelayPredict/data_processing/gtfs_loader.py'>"
      ]
     },
     "execution_count": 16,
     "metadata": {},
     "output_type": "execute_result"
    }
   ],
   "source": [
    "# relative MTADelayPredict Project\n",
    "import sys\n",
    "import os\n",
    "import pandas as pd\n",
    "\n",
    "sys.path.append(os.path.dirname(os.path.dirname(os.path.realpath(os.path.join('DataExploration.ipynb')))))\n",
    "from MTADelayPredict.data_processing import train_data, gtfs_loader\n",
    "\n",
    "from importlib import reload\n",
    "reload(gtfs_loader)"
   ]
  },
  {
   "cell_type": "code",
   "execution_count": 17,
   "metadata": {},
   "outputs": [
    {
     "name": "stdout",
     "output_type": "stream",
     "text": [
      "25552526\n",
      "25552646\n"
     ]
    },
    {
     "name": "stderr",
     "output_type": "stream",
     "text": [
      "100%|#####################################|entries: ------decode_errors:      5\n"
     ]
    },
    {
     "name": "stdout",
     "output_type": "stream",
     "text": [
      "New stops:\n",
      "{'R32S', 'N02S', 'N05S', 'R06S', 'R39S', 'Q01S', 'R16S', 'R04S', 'R34S', 'R30S', 'R15S', 'R03S', 'R17S', 'R31S', 'R01S', 'R35S', 'R11S', 'N09S', 'N07S', 'D43S', 'R41S', 'Q01N', 'R60S', 'N10S', 'N06S', 'N03S', 'R33S', 'R40S', 'R36S', 'N08S', 'R13S', 'R60N', 'R14S', 'R09S', 'R20S', 'N04S'}\n"
     ]
    }
   ],
   "source": [
    "STOP_FILTER = '^.*N$'\n",
    "ROUTE_FILTER = 'N'\n",
    "data_dir = '/data/raw/status'\n",
    "\n",
    "start_date = pd.Timestamp('2018-08-01 11:26:00-04:00', tz='US/Eastern')\n",
    "end_date = pd.Timestamp('2018-08-01 15:26:00-04:00', tz='US/Eastern')\n",
    "train_line = 'nqrw'\n",
    "loader = gtfs_loader.GTFSLoader(data_dir=data_dir,\n",
    "                                train_line=train_line)\n",
    "data = loader.load_range(start_date, end_date, stop_filter=STOP_FILTER, route_filter=ROUTE_FILTER, verbose=True,\n",
    "                  schedule=True)"
   ]
  },
  {
   "cell_type": "code",
   "execution_count": 34,
   "metadata": {},
   "outputs": [],
   "source": [
    "# Create loaders for loading data in monthly chunks\n",
    "loader_start = pd.Timestamp('2019-02-28 00:00:00', tz='US/Eastern')\n",
    "loader_end =  pd.Timestamp('2019-04-30 23:59:59', tz='US/Eastern')\n",
    "drange = pd.date_range(start=loader_start, end=loader_end, freq='D')\n",
    "loaders = []\n",
    "\n",
    "# Build separate loaders per month\n",
    "for i,d in enumerate(drange):\n",
    "    start_date = d.replace(hour=0, minute=0, second=0)\n",
    "    end_date = d.replace(hour=23,minute=59,second=59)\n",
    "    loader = gtfs_loader.GTFSLoader(data_dir=data_dir,\n",
    "                                    train_line=train_line)\n",
    "    loaders.append((loader, start_date, end_date))\n",
    "    "
   ]
  },
  {
   "cell_type": "code",
   "execution_count": null,
   "metadata": {},
   "outputs": [],
   "source": []
  },
  {
   "cell_type": "code",
   "execution_count": null,
   "metadata": {},
   "outputs": [],
   "source": []
  },
  {
   "cell_type": "code",
   "execution_count": 35,
   "metadata": {},
   "outputs": [],
   "source": [
    "# Load months in a pool and cache to h5\n",
    "from multiprocessing import Pool\n",
    "import os\n",
    "#STOP_FILTER = '^R1[6-9]N$'\n",
    "#STOP_FILTER = '^R1[6-7]N$'\n",
    "STOP_FILTER = '^.*N$'\n",
    "#ROUTE_FILTER = '[N|Q|R|W]'\n",
    "ROUTE_FILTER = 'N'\n",
    "\n",
    "status_dir = os.path.join(data_dir, 'status_northbound_n_schedule')\n",
    "\n",
    "failed_dates = []\n",
    "\n",
    "def f(args):\n",
    "    loader, start_date, end_date = args\n",
    "    try:\n",
    "        file_dir = os.path.join(status_dir, '{:04d}{:02d}'.format(start_date.year, start_date.month))\n",
    "        filename = os.path.join(file_dir, '{:04d}{:02d}{:02d}.h5'.format(start_date.year, start_date.month, start_date.day))    \n",
    "        if os.path.exists(filename):\n",
    "            print(\"File exists {}\".format(filename))\n",
    "            return\n",
    "\n",
    "        _ = loader.load_range(start_date, end_date, stop_filter=STOP_FILTER, route_filter=ROUTE_FILTER, verbose=True, schedule=True)\n",
    "        min_in_station = train_data.min_in_station(loader)\n",
    "        min_since_train = train_data.min_since_train(loader)\n",
    "        min_until_train = train_data.min_until_train(loader)\n",
    "        next_scheduled_arrival = loader.next_scheduled_arrival_df \n",
    "        schedule_df = train_data.load_range_schedule(loader)\n",
    "\n",
    "        if not os.path.isdir(file_dir):\n",
    "            os.makedirs(file_dir)\n",
    "\n",
    "        min_in_station.to_hdf(filename, key='min_in_station')\n",
    "        min_since_train.to_hdf(filename, key='min_since_train')\n",
    "        min_until_train.to_hdf(filename, key='min_until_train')\n",
    "        next_scheduled_arrival.to_hdf(filename, key='next_scheduled_arrival')\n",
    "         \n",
    "        schedule_df = schedule_df.fillna(method='ffill')\n",
    "        schedule_df.index = schedule_df['index']\n",
    "        schedule_df.drop(columns=['level_0', 'index'], inplace=True)\n",
    "        schedule_df.columns = range(len(schedule_df.columns))\n",
    "        schedule_df.to_hdf(filename, key='schedule')\n",
    "        \n",
    "        print(\"wrote: {}\".format(filename))\n",
    "        print(\"{} - {} Done\".format(start_date, end_date))\n",
    "        del loader\n",
    "    except Exception:\n",
    "       print(\"Skipping {}\".format(start_date))\n",
    "       failed_dates.append(start_date)"
   ]
  },
  {
   "cell_type": "code",
   "execution_count": 36,
   "metadata": {},
   "outputs": [
    {
     "data": {
      "text/plain": [
       "'/data/raw/status'"
      ]
     },
     "execution_count": 36,
     "metadata": {},
     "output_type": "execute_result"
    }
   ],
   "source": [
    "data_dir"
   ]
  },
  {
   "cell_type": "code",
   "execution_count": 37,
   "metadata": {},
   "outputs": [],
   "source": [
    "#prof = %prun -r -T /profile.txt f((loaders[0][0], pd.Timestamp('2018-08-01 00:00:00'), pd.Timestamp('2018-08-31 00:00:00')))"
   ]
  },
  {
   "cell_type": "code",
   "execution_count": 38,
   "metadata": {
    "scrolled": true
   },
   "outputs": [
    {
     "name": "stdout",
     "output_type": "stream",
     "text": [
      "File exists /data/raw/status/status_northbound_n_schedule/201808/20180801.h5\n"
     ]
    }
   ],
   "source": [
    "STOP_FILTER = '^.*N$'\n",
    "ROUTE_FILTER = 'N'\n",
    "data_dir = '/data/raw/status'\n",
    "\n",
    "start_date = pd.Timestamp('2018-08-01 00:00:00-04:00', tz='US/Eastern')\n",
    "end_date = pd.Timestamp('2018-08-01 23:59:00-04:00', tz='US/Eastern')\n",
    "\n",
    "f((loaders[0][0], start_date, end_date))"
   ]
  },
  {
   "cell_type": "code",
   "execution_count": 39,
   "metadata": {
    "scrolled": true
   },
   "outputs": [
    {
     "name": "stdout",
     "output_type": "stream",
     "text": [
      "File exists /data/raw/status/status_northbound_n_schedule/201903/20190315.h5\n",
      "File exists /data/raw/status/status_northbound_n_schedule/201903/20190306.h5\n",
      "File exists /data/raw/status/status_northbound_n_schedule/201903/20190312.h5\n",
      "File exists /data/raw/status/status_northbound_n_schedule/201903/20190316.h5\n",
      "File exists /data/raw/status/status_northbound_n_schedule/201903/20190307.h5\n",
      "File exists /data/raw/status/status_northbound_n_schedule/201903/20190313.h5\n",
      "File exists /data/raw/status/status_northbound_n_schedule/201903/20190317.h5\n",
      "File exists /data/raw/status/status_northbound_n_schedule/201903/20190314.h5\n",
      "File exists /data/raw/status/status_northbound_n_schedule/201903/20190308.h5\n",
      "File exists /data/raw/status/status_northbound_n_schedule/201903/20190318.h5\n",
      "File exists /data/raw/status/status_northbound_n_schedule/201903/20190321.h5\n",
      "File exists /data/raw/status/status_northbound_n_schedule/201903/20190319.h5\n",
      "File exists /data/raw/status/status_northbound_n_schedule/201903/20190320.h5\n",
      "File exists /data/raw/status/status_northbound_n_schedule/201903/20190322.h5\n",
      "File exists /data/raw/status/status_northbound_n_schedule/201903/20190324.h5\n",
      "File exists /data/raw/status/status_northbound_n_schedule/201903/20190327.h5\n",
      "File exists /data/raw/status/status_northbound_n_schedule/201903/20190325.h5\n",
      "File exists /data/raw/status/status_northbound_n_schedule/201903/20190323.h5\n",
      "File exists /data/raw/status/status_northbound_n_schedule/201903/20190328.h5\n",
      "File exists /data/raw/status/status_northbound_n_schedule/201903/20190329.h5\n",
      "File exists /data/raw/status/status_northbound_n_schedule/201903/20190326.h5\n",
      "File exists /data/raw/status/status_northbound_n_schedule/201903/20190309.h5\n",
      "File exists /data/raw/status/status_northbound_n_schedule/201903/20190330.h5\n",
      "File exists /data/raw/status/status_northbound_n_schedule/201903/20190331.h5\n",
      "File exists /data/raw/status/status_northbound_n_schedule/201903/20190310.h5\n",
      "File exists /data/raw/status/status_northbound_n_schedule/201903/20190311.h5\n",
      "25902959\n",
      "25913039\n",
      "25903079\n",
      "25908719\n",
      "25913159\n",
      "25908839\n",
      "25904399\n",
      "25904519\n",
      "File exists /data/raw/status/status_northbound_n_schedule/201902/20190228.h5\n",
      "File exists /data/raw/status/status_northbound_n_schedule/201903/20190303.h5\n",
      "File exists /data/raw/status/status_northbound_n_schedule/201903/20190304.h5\n",
      "File exists /data/raw/status/status_northbound_n_schedule/201903/20190305.h5\n",
      "File exists /data/raw/status/status_northbound_n_schedule/201903/20190301.h5\n",
      "File exists /data/raw/status/status_northbound_n_schedule/201903/20190302.h5\n",
      "25917359\n",
      "25917479\n",
      "25921679\n",
      "25921799\n"
     ]
    },
    {
     "name": "stderr",
     "output_type": "stream",
     "text": [
      "100%|#                                    |entries: ------decode_errors: ------\n"
     ]
    },
    {
     "name": "stdout",
     "output_type": "stream",
     "text": [
      "New stops:\n",
      "set()\n"
     ]
    },
    {
     "name": "stderr",
     "output_type": "stream",
     "text": [
      "  1%|                                     |entries: ------decode_errors: ------"
     ]
    },
    {
     "name": "stdout",
     "output_type": "stream",
     "text": [
      "Skipping 2019-04-08 00:00:00-04:00\n",
      "25914479\n",
      "25914599\n"
     ]
    },
    {
     "name": "stderr",
     "output_type": "stream",
     "text": [
      "100%|#####################################|entries: ------decode_errors:     14\n"
     ]
    },
    {
     "name": "stdout",
     "output_type": "stream",
     "text": [
      "New stops:\n",
      "{'N02S', 'N05S', 'R06S', 'R27S', 'R39S', 'Q01S', 'R10S', 'R65S', 'Q04S', 'R16S', 'R26S', 'R28S', 'Q05S', 'R04S', 'R25S', 'R30S', 'R15S', 'R05S', 'R03S', 'R08S', 'R65N', 'R29S', 'R17S', 'R31S', 'R01S', 'R11S', 'N09S', 'N07S', 'D43S', 'R23S', 'Q03S', 'R41S', 'Q01N', 'R60S', 'R19S', 'N10S', 'N06S', 'B08S', 'R22S', 'N03S', 'R24S', 'R40S', 'R36S', 'R13S', 'N08S', 'R60N', 'R21S', 'R14S', 'R09S', 'R18S', 'R20S', 'N04S'}\n"
     ]
    },
    {
     "name": "stderr",
     "output_type": "stream",
     "text": [
      " 51%|###################                  |entries: ------decode_errors:     24"
     ]
    },
    {
     "name": "stdout",
     "output_type": "stream",
     "text": [
      "wrote: /data/raw/status/status_northbound_n_schedule/201904/20190409.h5\n",
      "2019-04-09 00:00:00-04:00 - 2019-04-09 23:59:59-04:00 Done\n",
      "25915919\n",
      "25916039\n"
     ]
    },
    {
     "name": "stderr",
     "output_type": "stream",
     "text": [
      " 50%|##################                   |entries: ------decode_errors:      1/opt/project/MTADelayPredict/data_processing/gtfs_loader.py:156: RuntimeWarning: Unexpected end-group tag: Not all data was converted\n",
      "  msg.ParseFromString(fh.read())\n",
      "100%|#####################################|entries: ------decode_errors:     32\n"
     ]
    },
    {
     "name": "stdout",
     "output_type": "stream",
     "text": [
      "New stops:\n",
      "{'B12S', 'R32S', 'B15S', 'D37S', 'R06S', 'D27S', 'R65S', 'R26S', 'R25S', 'B21S', 'R30S', 'R29S', 'R05S', 'R31S', 'N09S', 'R41S', 'R60S', 'Q01N', 'N06S', 'B08S', 'N03S', 'R33S', 'B22S', 'D42S', 'R21S', 'R14S', 'N12S', 'R22S', 'B23S', 'N02S', 'B19S', 'N05S', 'R27S', 'R10S', 'B18S', 'Q05S', 'R03S', 'B13S', 'D25S', 'R11S', 'B20S', 'D26S', 'D34S', 'D39S', 'D28S', 'R20S', 'D40S', 'R24S', 'R40S', 'R60N', 'R09S', 'N04S', 'R39S', 'R16S', 'R04S', 'R34S', 'R15S', 'D32S', 'R65N', 'R17S', 'R01S', 'R35S', 'B24S', 'R23S', 'N10S', 'D30S', 'R13S', 'D38S', 'R18S', 'D35S', 'D23S', 'D31S', 'Q01S', 'D41S', 'R28S', 'B16S', 'B14S', 'R08S', 'B17S', 'N07S', 'D43S', 'Q03S', 'R19S', 'R36S', 'N08S', 'D24S', 'Q04S'}\n"
     ]
    },
    {
     "name": "stderr",
     "output_type": "stream",
     "text": [
      "100%|#####################################|entries: ------decode_errors:     32\n"
     ]
    },
    {
     "name": "stdout",
     "output_type": "stream",
     "text": [
      "New stops:\n",
      "{'R32S', 'D42N', 'N02S', 'N05S', 'R06S', 'R27S', 'R39S', 'D32N', 'Q01S', 'R10S', 'D26N', 'R65S', 'Q04S', 'R16S', 'R26S', 'R28S', 'Q05S', 'R25S', 'R04S', 'R30S', 'R34S', 'D34N', 'D28N', 'R15S', 'D38N', 'R05S', 'R29S', 'R08S', 'R65N', 'R70N', 'R03S', 'N12N', 'D31N', 'D25N', 'R17S', 'R31S', 'D35N', 'R01S', 'R35S', 'D27N', 'D24N', 'R11S', 'N09S', 'N07S', 'D30N', 'R23S', 'D43S', 'R18S', 'Q03S', 'R60S', 'R41S', 'R19S', 'Q01N', 'N10S', 'N06S', 'B08S', 'R24S', 'N03S', 'D40N', 'R33S', 'D41N', 'D39N', 'R10N', 'R40S', 'D37N', 'R36S', 'R13S', 'N08S', 'R60N', 'R21S', 'R14S', 'R09S', 'D29N', 'R22S', 'R20S', 'D33N', 'N04S'}\n"
     ]
    },
    {
     "name": "stderr",
     "output_type": "stream",
     "text": [
      "100%|#####################################|entries: ------decode_errors:     35\n"
     ]
    },
    {
     "name": "stdout",
     "output_type": "stream",
     "text": [
      "New stops:\n",
      "{'B12S', 'R32S', 'B15S', 'R06S', 'D27S', 'B17N', 'R65S', 'R26S', 'R25S', 'B21S', 'R30S', 'B18N', 'D38N', 'R29S', 'R05S', 'D31N', 'D25N', 'R31S', 'B15N', 'N09S', 'R60S', 'R41S', 'Q01N', 'N06S', 'B08S', 'N03S', 'B20N', 'D40N', 'R33S', 'B22S', 'R10N', 'B22N', 'R21S', 'R14S', 'N12S', 'R22S', 'B23S', 'D33N', 'G09N', 'D42N', 'N02S', 'B19S', 'N05S', 'R27S', 'R10S', 'B18S', 'Q05S', 'R03S', 'R70N', 'D24N', 'B13S', 'D25S', 'R11S', 'B19N', 'B20S', 'D26S', 'D34S', 'R20S', 'D28S', 'R24S', 'R40S', 'R60N', 'G08N', 'R09S', 'D29N', 'N04S', 'D32N', 'R39S', 'D26N', 'B16N', 'R16S', 'B23N', 'R04S', 'R34S', 'D34N', 'R15S', 'D32S', 'R65N', 'R17S', 'D27N', 'R35S', 'R01S', 'D29S', 'B24N', 'R23S', 'B13N', 'N10S', 'D30S', 'D41N', 'R13S', 'R18S', 'D30N', 'D35S', 'D31S', 'Q01S', 'D33S', 'R28S', 'B16S', 'D28N', 'B14S', 'R08S', 'B17S', 'D35N', 'N07S', 'B14N', 'D43S', 'Q03S', 'R19S', 'B21N', 'B12N', 'D37N', 'R36S', 'N08S', 'D24S', 'D39N', 'Q04S'}\n"
     ]
    },
    {
     "name": "stderr",
     "output_type": "stream",
     "text": [
      "100%|#####################################|entries: ------decode_errors:     24\n"
     ]
    },
    {
     "name": "stdout",
     "output_type": "stream",
     "text": [
      "New stops:\n",
      "{'R32S', 'N02S', 'N05S', 'R06S', 'R27S', 'R39S', 'Q01S', 'R10S', 'R65S', 'Q04S', 'R16S', 'R26S', 'R28S', 'Q05S', 'R25S', 'R04S', 'R30S', 'R34S', 'R15S', 'R29S', 'R05S', 'R08S', 'R65N', 'R03S', 'N12N', 'R17S', 'R31S', 'R01S', 'R35S', 'R11S', 'N09S', 'N07S', 'D43S', 'R23S', 'R18S', 'Q03S', 'R41S', 'R60S', 'R19S', 'Q01N', 'N10S', 'N06S', 'B08S', 'N03S', 'R24S', 'R33S', 'R40S', 'R10N', 'R36S', 'R13S', 'N08S', 'R60N', 'R21S', 'R14S', 'R09S', 'N12S', 'R22S', 'R20S', 'N04S'}\n"
     ]
    },
    {
     "name": "stderr",
     "output_type": "stream",
     "text": [
      "100%|#####################################|entries: ------decode_errors:      1\n"
     ]
    },
    {
     "name": "stdout",
     "output_type": "stream",
     "text": [
      "New stops:\n",
      "{'R32S', 'N02S', 'D23N', 'N05S', 'R06S', 'R27S', 'R39S', 'D23S', 'Q01S', 'R65S', 'R70S', 'R16S', 'R26S', 'R28S', 'R25S', 'R34S', 'R30S', 'R04S', 'R15S', 'R29S', 'R03S', 'R05S', 'R65N', 'R08S', 'R17S', 'R31S', 'R35S', 'R01S', 'R11S', 'N09S', 'N07S', 'R23S', 'D43S', 'R41S', 'Q01N', 'R60S', 'R19S', 'N10S', 'R22S', 'N06S', 'N03S', 'R24S', 'R33S', 'R40S', 'R36S', 'R13S', 'N08S', 'R60N', 'R21S', 'R14S', 'R09S', 'R18S', 'R20S', 'N04S'}\n"
     ]
    },
    {
     "name": "stderr",
     "output_type": "stream",
     "text": [
      " 70%|##########################           |entries: ------decode_errors:     37"
     ]
    },
    {
     "name": "stdout",
     "output_type": "stream",
     "text": [
      "wrote: /data/raw/status/status_northbound_n_schedule/201904/20190405.h5\n",
      "2019-04-05 00:00:00-04:00 - 2019-04-05 23:59:59-04:00 Done\n",
      "25910159\n",
      "25910279\n"
     ]
    },
    {
     "name": "stderr",
     "output_type": "stream",
     "text": [
      "100%|#                                    |entries: ------decode_errors: ------\n"
     ]
    },
    {
     "name": "stdout",
     "output_type": "stream",
     "text": [
      "New stops:\n",
      "set()\n",
      "wrote: /data/raw/status/status_northbound_n_schedule/201904/20190402.h5\n",
      "2019-04-02 00:00:00-04:00 - 2019-04-02 23:59:59-04:00 Done\n",
      "25905839\n",
      "25905959\n"
     ]
    },
    {
     "name": "stderr",
     "output_type": "stream",
     "text": [
      "  0%|                                     |entries: ------decode_errors: ------"
     ]
    },
    {
     "name": "stdout",
     "output_type": "stream",
     "text": [
      "wrote: /data/raw/status/status_northbound_n_schedule/201904/20190401.h5\n",
      "2019-04-01 00:00:00-04:00 - 2019-04-01 23:59:59-04:00 Done\n",
      "25925999\n",
      "25926119\n",
      "Skipping 2019-04-06 00:00:00-04:00\n",
      "25911599\n",
      "25911719\n"
     ]
    },
    {
     "name": "stderr",
     "output_type": "stream",
     "text": [
      "100%|#                                    |entries: ------decode_errors: ------\n"
     ]
    },
    {
     "name": "stdout",
     "output_type": "stream",
     "text": [
      "New stops:\n",
      "set()\n"
     ]
    },
    {
     "name": "stderr",
     "output_type": "stream",
     "text": [
      " 74%|###########################          |entries: ------decode_errors:     37"
     ]
    },
    {
     "name": "stdout",
     "output_type": "stream",
     "text": [
      "Skipping 2019-04-07 00:00:00-04:00\n",
      "25930319\n",
      "25930439\n"
     ]
    },
    {
     "name": "stderr",
     "output_type": "stream",
     "text": [
      " 79%|#############################        |entries: ------decode_errors:     39"
     ]
    },
    {
     "name": "stdout",
     "output_type": "stream",
     "text": [
      "wrote: /data/raw/status/status_northbound_n_schedule/201904/20190414.h5\n",
      "2019-04-14 00:00:00-04:00 - 2019-04-14 23:59:59-04:00 Done\n",
      "25923119\n",
      "25923239\n"
     ]
    },
    {
     "name": "stderr",
     "output_type": "stream",
     "text": [
      " 13%|#####                                |entries: ------decode_errors:      3"
     ]
    },
    {
     "name": "stdout",
     "output_type": "stream",
     "text": [
      "wrote: /data/raw/status/status_northbound_n_schedule/201904/20190411.h5\n",
      "2019-04-11 00:00:00-04:00 - 2019-04-11 23:59:59-04:00 Done\n",
      "25918799\n",
      "25918919\n"
     ]
    },
    {
     "name": "stderr",
     "output_type": "stream",
     "text": [
      "  2%|                                     |entries: ------decode_errors: ------/opt/project/MTADelayPredict/data_processing/gtfs_loader.py:156: RuntimeWarning: Unexpected end-group tag: Not all data was converted\n",
      "  msg.ParseFromString(fh.read())\n",
      " 18%|#######                              |entries: ------decode_errors: ------\n"
     ]
    },
    {
     "name": "stdout",
     "output_type": "stream",
     "text": [
      "New stops:\n",
      "{'B12S', 'R32S', 'B15S', 'N02S', 'B19S', 'N05S', 'R06S', 'R27S', 'R39S', 'Q01S', 'R10S', 'R65S', 'B18S', 'Q04S', 'R16S', 'R26S', 'B23S', 'R28S', 'Q05S', 'R25S', 'R04S', 'R30S', 'R34S', 'B16S', 'B21S', 'R15S', 'B14S', 'R29S', 'R05S', 'R08S', 'R65N', 'R03S', 'B17S', 'N12N', 'R17S', 'R31S', 'R01S', 'R35S', 'B13S', 'R11S', 'N09S', 'N07S', 'R23S', 'D43S', 'R18S', 'B20S', 'Q03S', 'R41S', 'R60S', 'R19S', 'Q01N', 'N10S', 'N06S', 'B08S', 'N03S', 'R24S', 'R33S', 'B22S', 'R40S', 'R10N', 'R36S', 'R13S', 'N08S', 'R60N', 'R21S', 'R14S', 'R09S', 'N12S', 'R22S', 'R20S', 'N04S'}\n"
     ]
    },
    {
     "name": "stderr",
     "output_type": "stream",
     "text": [
      " 25%|#########                            |entries: ------decode_errors: ------/opt/project/MTADelayPredict/data_processing/gtfs_loader.py:156: RuntimeWarning: Unexpected end-group tag: Not all data was converted\n",
      "  msg.ParseFromString(fh.read())\n",
      " 46%|#################                    |entries: ------decode_errors:     12"
     ]
    },
    {
     "name": "stdout",
     "output_type": "stream",
     "text": [
      "wrote: /data/raw/status/status_northbound_n_schedule/201904/20190410.h5\n",
      "2019-04-10 00:00:00-04:00 - 2019-04-10 23:59:59-04:00 Done\n",
      "25934639\n",
      "25934759\n"
     ]
    },
    {
     "name": "stderr",
     "output_type": "stream",
     "text": [
      "100%|#####################################|entries: ------decode_errors:     33\n"
     ]
    },
    {
     "name": "stdout",
     "output_type": "stream",
     "text": [
      "New stops:\n",
      "{'R32S', 'N02S', 'D37S', 'N05S', 'R06S', 'R27S', 'R39S', 'D27S', 'D23S', 'D31S', 'D35S', 'Q01S', 'R10S', 'R65S', 'Q04S', 'Q03N', 'R16S', 'D33S', 'R26S', 'R28S', 'Q05S', 'R25S', 'R04S', 'R30S', 'R34S', 'R15S', 'B10N', 'R29S', 'R05S', 'R08S', 'R65N', 'R03S', 'N12N', 'R17S', 'R31S', 'R01S', 'R35S', 'D25S', 'R11S', 'N09S', 'N07S', 'D29S', 'B08N', 'R23S', 'D43S', 'Q03S', 'R41S', 'R19S', 'R60S', 'Q01N', 'N10S', 'N06S', 'R22S', 'D26S', 'D28S', 'B08S', 'D34S', 'N03S', 'R24S', 'R33S', 'D30S', 'R40S', 'Q04N', 'R10N', 'R36S', 'R13S', 'N08S', 'D38S', 'R60N', 'R21S', 'Q05N', 'R14S', 'R09S', 'N12S', 'D24S', 'R18S', 'R20S', 'N04S'}\n"
     ]
    },
    {
     "name": "stderr",
     "output_type": "stream",
     "text": [
      " 77%|############################         |entries: ------decode_errors:      1/opt/project/MTADelayPredict/data_processing/gtfs_loader.py:156: RuntimeWarning: Unexpected end-group tag: Not all data was converted\n",
      "  msg.ParseFromString(fh.read())\n",
      " 81%|#############################        |entries: ------decode_errors: ------"
     ]
    },
    {
     "name": "stdout",
     "output_type": "stream",
     "text": [
      "wrote: /data/raw/status/status_northbound_n_schedule/201904/20190403.h5\n",
      "2019-04-03 00:00:00-04:00 - 2019-04-03 23:59:59-04:00 Done\n",
      "25907279\n"
     ]
    },
    {
     "name": "stderr",
     "output_type": "stream",
     "text": [
      " 54%|####################                 |entries: ------decode_errors: ------"
     ]
    },
    {
     "name": "stdout",
     "output_type": "stream",
     "text": [
      "25907399\n"
     ]
    },
    {
     "name": "stderr",
     "output_type": "stream",
     "text": [
      "100%|#####################################|entries: ------decode_errors: ------\n"
     ]
    },
    {
     "name": "stdout",
     "output_type": "stream",
     "text": [
      "New stops:\n",
      "{'B12S', 'R32S', 'B15S', 'N02S', 'B19S', 'N05S', 'R06S', 'R27S', 'R39S', 'D23S', 'Q01S', 'R10S', 'R65S', 'B18S', 'Q04S', 'R16S', 'R26S', 'B23S', 'R28S', 'Q05S', 'R25S', 'R04S', 'R30S', 'R34S', 'B16S', 'B21S', 'R15S', 'B14S', 'R03S', 'R29S', 'R05S', 'R65N', 'R08S', 'R70N', 'B17S', 'R17S', 'R31S', 'R01S', 'R35S', 'B13S', 'R11S', 'N09S', 'N07S', 'R23S', 'D43S', 'R18S', 'B20S', 'Q03S', 'R19S', 'Q01N', 'R60S', 'R41S', 'N10S', 'N06S', 'B08S', 'N03S', 'R24S', 'R33S', 'B22S', 'R40S', 'R36S', 'N08S', 'R13S', 'R60N', 'R21S', 'R14S', 'R09S', 'N12S', 'D24S', 'R22S', 'R20S', 'N04S'}\n"
     ]
    },
    {
     "name": "stderr",
     "output_type": "stream",
     "text": [
      "100%|#####################################|entries: ------decode_errors: ------\n"
     ]
    },
    {
     "name": "stdout",
     "output_type": "stream",
     "text": [
      "New stops:\n",
      "{'B12S', 'R32S', 'B15S', 'N02S', 'B19S', 'N05S', 'R06S', 'R27S', 'R39S', 'Q01S', 'R65S', 'B18S', 'Q04S', 'R16S', 'R26S', 'B23S', 'R28S', 'Q05S', 'R25S', 'R34S', 'R30S', 'R04S', 'B21S', 'R15S', 'B14S', 'R29S', 'R03S', 'R05S', 'R65N', 'R08S', 'N12N', 'R70N', 'B17S', 'R17S', 'R31S', 'R01S', 'R35S', 'B13S', 'R11S', 'N09S', 'N07S', 'B24S', 'D43S', 'R23S', 'B20S', 'Q03S', 'R60S', 'Q01N', 'R41S', 'R19S', 'N10S', 'N06S', 'R22S', 'B08S', 'R24S', 'N03S', 'R33S', 'B22S', 'R40S', 'R10N', 'R36S', 'N08S', 'R13S', 'R60N', 'R21S', 'R14S', 'R09S', 'N12S', 'R18S', 'R20S', 'N04S'}\n"
     ]
    },
    {
     "name": "stderr",
     "output_type": "stream",
     "text": [
      "100%|#####################################|entries: ------decode_errors:      1\n"
     ]
    },
    {
     "name": "stdout",
     "output_type": "stream",
     "text": [
      "New stops:\n",
      "{'R32S', 'N02S', 'N05S', 'R06S', 'R27S', 'R39S', 'Q01S', 'R10S', 'R65S', 'Q04S', 'R16S', 'R26S', 'R28S', 'Q05S', 'R25S', 'R04S', 'R30S', 'R34S', 'R15S', 'R03S', 'R29S', 'R05S', 'R65N', 'R08S', 'R17S', 'R31S', 'R01S', 'R35S', 'R11S', 'N09S', 'N07S', 'D43S', 'R23S', 'Q03S', 'R60S', 'Q01N', 'R41S', 'R19S', 'N10S', 'N06S', 'R22S', 'B08S', 'R24S', 'N03S', 'R33S', 'R40S', 'R36S', 'N08S', 'R13S', 'R60N', 'R21S', 'R14S', 'R09S', 'N12S', 'R18S', 'R20S', 'N04S'}\n"
     ]
    },
    {
     "name": "stderr",
     "output_type": "stream",
     "text": [
      "100%|#####################################|entries: ------decode_errors: ------\n"
     ]
    },
    {
     "name": "stdout",
     "output_type": "stream",
     "text": [
      "New stops:\n",
      "{'N02S', 'N05S', 'R06S', 'R27S', 'R39S', 'Q01S', 'R10S', 'R65S', 'R16S', 'R26S', 'R28S', 'R25S', 'R04S', 'R30S', 'R15S', 'R03S', 'R05S', 'R29S', 'R65N', 'R08S', 'N12N', 'R70N', 'R17S', 'R31S', 'R01S', 'R11S', 'N09S', 'N07S', 'R23S', 'D43S', 'R18S', 'R60S', 'R41S', 'R19S', 'N10S', 'N06S', 'R24S', 'N03S', 'R40S', 'R10N', 'R36S', 'N08S', 'R13S', 'R60N', 'R21S', 'R14S', 'R09S', 'N12S', 'R22S', 'R20S', 'N04S'}\n"
     ]
    },
    {
     "name": "stderr",
     "output_type": "stream",
     "text": [
      " 75%|############################         |entries: ------decode_errors: ------"
     ]
    },
    {
     "name": "stdout",
     "output_type": "stream",
     "text": [
      "wrote: /data/raw/status/status_northbound_n_schedule/201904/20190417.h5\n",
      "2019-04-17 00:00:00-04:00 - 2019-04-17 23:59:59-04:00 Done\n",
      "25927439\n",
      "25927559\n"
     ]
    },
    {
     "name": "stderr",
     "output_type": "stream",
     "text": [
      "  3%|#                                    |entries: ------decode_errors: ------"
     ]
    },
    {
     "name": "stdout",
     "output_type": "stream",
     "text": [
      "wrote: /data/raw/status/status_northbound_n_schedule/201904/20190415.h5\n"
     ]
    },
    {
     "name": "stderr",
     "output_type": "stream",
     "text": [
      " 34%|############                         |entries: ------decode_errors:     18"
     ]
    },
    {
     "name": "stdout",
     "output_type": "stream",
     "text": [
      "2019-04-15 00:00:00-04:00 - 2019-04-15 23:59:59-04:00 Done\n",
      "25924559\n",
      "25924679\n"
     ]
    },
    {
     "name": "stderr",
     "output_type": "stream",
     "text": [
      " 13%|#####                                |entries: ------decode_errors: ------"
     ]
    },
    {
     "name": "stdout",
     "output_type": "stream",
     "text": [
      "wrote: /data/raw/status/status_northbound_n_schedule/201904/20190420.h5\n",
      "2019-04-20 00:00:00-04:00 - 2019-04-20 23:59:59-04:00 Done\n",
      "25931759\n",
      "25931879\n"
     ]
    },
    {
     "name": "stderr",
     "output_type": "stream",
     "text": [
      " 44%|################                     |entries: ------decode_errors:     22"
     ]
    },
    {
     "name": "stdout",
     "output_type": "stream",
     "text": [
      "wrote: /data/raw/status/status_northbound_n_schedule/201904/20190412.h5\n",
      "2019-04-12 00:00:00-04:00 - 2019-04-12 23:59:59-04:00 Done\n",
      "25920239\n",
      "25920359\n"
     ]
    },
    {
     "name": "stderr",
     "output_type": "stream",
     "text": [
      "100%|#####################################|entries: ------decode_errors: ------\n"
     ]
    },
    {
     "name": "stdout",
     "output_type": "stream",
     "text": [
      "New stops:\n",
      "{'B12S', 'R32S', 'B15S', 'N02S', 'N05S', 'R06S', 'R27S', 'R39S', 'Q01S', 'R10S', 'R65S', 'Q04S', 'R16S', 'R26S', 'B23S', 'R28S', 'Q05S', 'R25S', 'R04S', 'R30S', 'R34S', 'B16S', 'B21S', 'R15S', 'B14S', 'R03S', 'R29S', 'R05S', 'R65N', 'R08S', 'R17S', 'R31S', 'R01S', 'R35S', 'B13S', 'R11S', 'N09S', 'N07S', 'B24S', 'R23S', 'D43S', 'R18S', 'B20S', 'Q03S', 'R41S', 'Q01N', 'R19S', 'R60S', 'N10S', 'N06S', 'B08S', 'N03S', 'R24S', 'R33S', 'B22S', 'R40S', 'R36S', 'N08S', 'R13S', 'R60N', 'R21S', 'R14S', 'R09S', 'N12S', 'R22S', 'R20S', 'N04S'}\n"
     ]
    },
    {
     "name": "stderr",
     "output_type": "stream",
     "text": [
      " 25%|#########                            |entries: ------decode_errors: ------"
     ]
    },
    {
     "name": "stdout",
     "output_type": "stream",
     "text": [
      "wrote: /data/raw/status/status_northbound_n_schedule/201904/20190423.h5\n",
      "2019-04-23 00:00:00-04:00 - 2019-04-23 23:59:59-04:00 Done\n",
      "25936079\n",
      "25936199\n"
     ]
    },
    {
     "name": "stderr",
     "output_type": "stream",
     "text": [
      "100%|#####################################|entries: ------decode_errors:     41\n"
     ]
    },
    {
     "name": "stdout",
     "output_type": "stream",
     "text": [
      "New stops:\n",
      "{'B12S', 'R32S', 'B15S', 'D37S', 'R06S', 'D27S', 'R65S', 'R26S', 'R25S', 'B21S', 'R30S', 'R05S', 'R29S', 'R31S', 'N09S', 'R60S', 'R41S', 'Q01N', 'N06S', 'B08S', 'N03S', 'R33S', 'B22S', 'D42S', 'R21S', 'R14S', 'N12S', 'R22S', 'B23S', 'N02S', 'B19S', 'N05S', 'R27S', 'R10S', 'B18S', 'Q05S', 'R03S', 'R70N', 'B13S', 'D25S', 'R11S', 'B20S', 'D26S', 'D34S', 'D39S', 'D28S', 'R20S', 'D40S', 'R24S', 'R40S', 'R60N', 'R09S', 'N04S', 'R39S', 'R16S', 'R04S', 'R34S', 'R15S', 'D32S', 'R65N', 'R17S', 'R01S', 'R35S', 'D29S', 'B24S', 'R23S', 'N10S', 'D30S', 'R13S', 'D38S', 'R18S', 'D35S', 'D23S', 'D31S', 'Q01S', 'D41S', 'D33S', 'R28S', 'B16S', 'B14S', 'R08S', 'B17S', 'N07S', 'D43S', 'Q03S', 'R19S', 'R36S', 'N08S', 'D24S', 'Q04S'}\n"
     ]
    },
    {
     "name": "stderr",
     "output_type": "stream",
     "text": [
      " 60%|######################               |entries: ------decode_errors: ------"
     ]
    },
    {
     "name": "stdout",
     "output_type": "stream",
     "text": [
      "wrote: /data/raw/status/status_northbound_n_schedule/201904/20190404.h5\n",
      "2019-04-04 00:00:00-04:00 - 2019-04-04 23:59:59-04:00 Done\n",
      "25938959\n",
      "25939079\n"
     ]
    },
    {
     "name": "stderr",
     "output_type": "stream",
     "text": [
      " 91%|#################################    |entries: ------decode_errors: ------/opt/project/MTADelayPredict/data_processing/gtfs_loader.py:156: RuntimeWarning: Unexpected end-group tag: Not all data was converted\n",
      "  msg.ParseFromString(fh.read())\n",
      "100%|#####################################|entries: ------decode_errors: ------\n"
     ]
    },
    {
     "name": "stdout",
     "output_type": "stream",
     "text": [
      "New stops:\n",
      "{'R32S', 'N02S', 'N05S', 'R06S', 'R27S', 'R39S', 'B17N', 'Q01S', 'R10S', 'R65S', 'R70S', 'B16N', 'Q04S', 'R16S', 'R26S', 'R28S', 'B23N', 'Q05S', 'R25S', 'R34S', 'R30S', 'R04S', 'B18N', 'R15S', 'R03S', 'R29S', 'R05S', 'R65N', 'R08S', 'R70N', 'R17S', 'R31S', 'R01S', 'R35S', 'B15N', 'R11S', 'N09S', 'N07S', 'B14N', 'B19N', 'B24N', 'R23S', 'D43S', 'Q03S', 'R19S', 'Q01N', 'R60S', 'R41S', 'N10S', 'N06S', 'R22S', 'B08S', 'B21N', 'B13N', 'B12N', 'R24S', 'N03S', 'B20N', 'R33S', 'R40S', 'R36S', 'N08S', 'R13S', 'B22N', 'R60N', 'R21S', 'R14S', 'R09S', 'N12S', 'R18S', 'R20S', 'N04S'}\n"
     ]
    },
    {
     "name": "stderr",
     "output_type": "stream",
     "text": [
      "100%|#####################################|entries: ------decode_errors: ------\n"
     ]
    },
    {
     "name": "stdout",
     "output_type": "stream",
     "text": [
      "New stops:\n",
      "{'B12S', 'R32S', 'B15S', 'N02S', 'B19S', 'N05S', 'R06S', 'R27S', 'R39S', 'Q01S', 'R10S', 'R65S', 'B18S', 'Q04S', 'R16S', 'R26S', 'B23S', 'R28S', 'Q05S', 'R25S', 'R34S', 'R30S', 'R04S', 'B16S', 'B21S', 'R15S', 'B14S', 'R29S', 'R05S', 'R08S', 'R65N', 'R03S', 'N12N', 'B17S', 'R17S', 'R31S', 'R35S', 'R01S', 'B13S', 'R11S', 'N09S', 'N07S', 'B24S', 'R23S', 'D43S', 'B20S', 'Q03S', 'R19S', 'Q01N', 'R41S', 'R60S', 'N10S', 'R22S', 'N06S', 'B08S', 'R24S', 'N03S', 'R33S', 'B22S', 'R40S', 'R10N', 'R36S', 'R13S', 'N08S', 'R60N', 'R21S', 'R14S', 'R09S', 'R18S', 'R20S', 'N04S'}\n"
     ]
    },
    {
     "name": "stderr",
     "output_type": "stream",
     "text": [
      "100%|#####################################|entries: ------decode_errors: ------\n"
     ]
    },
    {
     "name": "stdout",
     "output_type": "stream",
     "text": [
      "New stops:\n",
      "{'R32S', 'N02S', 'D23N', 'N05S', 'R27S', 'R39S', 'D23S', 'Q01S', 'R10S', 'R65S', 'R16S', 'R26S', 'R28S', 'R25S', 'R34S', 'R30S', 'R15S', 'R29S', 'R65N', 'R70N', 'R17S', 'R31S', 'R35S', 'R11S', 'N09S', 'N07S', 'R23S', 'D43S', 'R41S', 'Q01N', 'R19S', 'R60S', 'N10S', 'N06S', 'R22S', 'N03S', 'R24S', 'R33S', 'R40S', 'R36S', 'R13S', 'N08S', 'R60N', 'R21S', 'R14S', 'R09S', 'N12S', 'R18S', 'R20S', 'N04S'}\n"
     ]
    },
    {
     "name": "stderr",
     "output_type": "stream",
     "text": [
      "100%|#####################################|entries: ------decode_errors: ------\n"
     ]
    },
    {
     "name": "stdout",
     "output_type": "stream",
     "text": [
      "New stops:\n",
      "{'N02S', 'N05S', 'R06S', 'R27S', 'R39S', 'Q01S', 'R65S', 'R70S', 'R16S', 'R26S', 'R28S', 'R25S', 'R04S', 'R30S', 'R15S', 'R03S', 'R29S', 'R05S', 'R65N', 'R08S', 'R17S', 'R31S', 'R01S', 'R11S', 'N09S', 'N07S', 'R23S', 'D43S', 'R18S', 'R60S', 'R19S', 'R41S', 'N10S', 'N06S', 'R24S', 'N03S', 'R40S', 'R36S', 'R13S', 'N08S', 'R60N', 'R21S', 'R14S', 'R09S', 'N12S', 'R22S', 'R20S', 'N04S'}\n"
     ]
    },
    {
     "name": "stderr",
     "output_type": "stream",
     "text": [
      " 73%|###########################          |entries: ------decode_errors: ------"
     ]
    },
    {
     "name": "stdout",
     "output_type": "stream",
     "text": [
      "wrote: /data/raw/status/status_northbound_n_schedule/201904/20190416.h5\n",
      "2019-04-16 00:00:00-04:00 - 2019-04-16 23:59:59-04:00 Done\n",
      "25943279\n",
      "25943399\n",
      "wrote: /data/raw/status/status_northbound_n_schedule/201904/20190418.h5\n",
      "2019-04-18 00:00:00-04:00 - 2019-04-18 23:59:59-04:00 Done\n",
      "25928879\n",
      "25928999\n"
     ]
    },
    {
     "name": "stderr",
     "output_type": "stream",
     "text": [
      " 40%|##############                       |entries: ------decode_errors: ------"
     ]
    },
    {
     "name": "stdout",
     "output_type": "stream",
     "text": [
      "wrote: /data/raw/status/status_northbound_n_schedule/201904/20190413.h5\n",
      "2019-04-13 00:00:00-04:00 - 2019-04-13 23:59:59-04:00 Done\n"
     ]
    },
    {
     "name": "stderr",
     "output_type": "stream",
     "text": [
      " 11%|####                                 |entries: ------decode_errors: ------"
     ]
    },
    {
     "name": "stdout",
     "output_type": "stream",
     "text": [
      "wrote: /data/raw/status/status_northbound_n_schedule/201904/20190421.h5\n",
      "2019-04-21 00:00:00-04:00 - 2019-04-21 23:59:59-04:00 Done\n",
      "25933199\n",
      "25933319\n"
     ]
    },
    {
     "name": "stderr",
     "output_type": "stream",
     "text": [
      "100%|#####################################|entries: ------decode_errors: ------\n"
     ]
    },
    {
     "name": "stdout",
     "output_type": "stream",
     "text": [
      "New stops:\n",
      "{'B12S', 'R32S', 'B15S', 'N02S', 'B19S', 'N05S', 'R06S', 'R27S', 'R39S', 'D23S', 'Q01S', 'R10S', 'R65S', 'B18S', 'Q04S', 'R16S', 'R26S', 'B23S', 'R28S', 'Q05S', 'R25S', 'R04S', 'R30S', 'R34S', 'B16S', 'B21S', 'R15S', 'B14S', 'R03S', 'R29S', 'R05S', 'R65N', 'R08S', 'B17S', 'R17S', 'R31S', 'R01S', 'R35S', 'B13S', 'R11S', 'N09S', 'N07S', 'B24S', 'R23S', 'D43S', 'B20S', 'Q03S', 'R60S', 'Q01N', 'R19S', 'R41S', 'N10S', 'R22S', 'N06S', 'B08S', 'R24S', 'N03S', 'R33S', 'B22S', 'R40S', 'R36S', 'R13S', 'N08S', 'R60N', 'R21S', 'R14S', 'R09S', 'N12S', 'R18S', 'R20S', 'N04S'}\n"
     ]
    },
    {
     "name": "stderr",
     "output_type": "stream",
     "text": [
      " 37%|##############                       |entries: ------decode_errors: ------"
     ]
    },
    {
     "name": "stdout",
     "output_type": "stream",
     "text": [
      "wrote: /data/raw/status/status_northbound_n_schedule/201904/20190424.h5\n",
      "2019-04-24 00:00:00-04:00 - 2019-04-24 23:59:59-04:00 Done\n",
      "25937519\n",
      "25937639\n"
     ]
    },
    {
     "name": "stderr",
     "output_type": "stream",
     "text": [
      "100%|#####################################|entries: ------decode_errors: ------\n"
     ]
    },
    {
     "name": "stdout",
     "output_type": "stream",
     "text": [
      "New stops:\n",
      "{'B12S', 'R32S', 'B15S', 'R06S', 'B17N', 'R65S', 'R26S', 'R25S', 'B21S', 'R30S', 'B18N', 'R29S', 'R05S', 'R31S', 'B15N', 'N09S', 'R41S', 'Q01N', 'R60S', 'N06S', 'B08S', 'N03S', 'B20N', 'R33S', 'B22S', 'R10N', 'B22N', 'R21S', 'R14S', 'N12S', 'R22S', 'B23S', 'N02S', 'B19S', 'N05S', 'R27S', 'R10S', 'B18S', 'R70S', 'Q05S', 'R03S', 'R70N', 'B13S', 'R11S', 'B19N', 'B20S', 'R20S', 'R24S', 'R40S', 'R60N', 'R09S', 'N04S', 'R39S', 'B16N', 'R16S', 'B23N', 'R04S', 'R34S', 'R15S', 'R65N', 'R17S', 'R01S', 'R35S', 'B24N', 'R23S', 'B13N', 'N10S', 'R13S', 'N12N', 'R18S', 'D23S', 'Q01S', 'R28S', 'B16S', 'B14S', 'R08S', 'B17S', 'N07S', 'B14N', 'D43S', 'Q03S', 'R19S', 'B21N', 'B12N', 'R36S', 'N08S', 'Q04S'}\n"
     ]
    },
    {
     "name": "stderr",
     "output_type": "stream",
     "text": [
      " 67%|########################             |entries: ------decode_errors: ------"
     ]
    },
    {
     "name": "stdout",
     "output_type": "stream",
     "text": [
      "wrote: /data/raw/status/status_northbound_n_schedule/201904/20190426.h5\n",
      "2019-04-26 00:00:00-04:00 - 2019-04-26 23:59:59-04:00 Done\n",
      "25940399\n",
      "25940519\n"
     ]
    },
    {
     "name": "stderr",
     "output_type": "stream",
     "text": [
      "100%|#####################################|entries: ------decode_errors: ------\n"
     ]
    },
    {
     "name": "stdout",
     "output_type": "stream",
     "text": [
      "New stops:\n",
      "{'R32S', 'N02S', 'D37S', 'N05S', 'R06S', 'R27S', 'R39S', 'D27S', 'D35S', 'D31S', 'Q01S', 'R65S', 'R70S', 'D41S', 'Q04S', 'D33S', 'R16S', 'R26S', 'R28S', 'Q05S', 'R25S', 'R04S', 'R30S', 'R34S', 'R15S', 'D32S', 'R03S', 'R29S', 'R05S', 'R65N', 'R08S', 'R17S', 'R31S', 'R01S', 'R35S', 'D25S', 'R11S', 'N09S', 'N07S', 'D29S', 'D43S', 'R23S', 'Q03S', 'R60S', 'Q01N', 'R41S', 'R19S', 'N10S', 'N06S', 'R22S', 'B08S', 'D26S', 'D28S', 'D34S', 'D39S', 'R24S', 'N03S', 'D40S', 'R33S', 'D30S', 'R40S', 'R10N', 'R36S', 'N08S', 'R13S', 'D38S', 'D42S', 'R60N', 'R21S', 'R14S', 'R09S', 'D24S', 'R18S', 'R20S', 'N04S'}\n"
     ]
    },
    {
     "name": "stderr",
     "output_type": "stream",
     "text": [
      "100%|#####################################|entries: ------decode_errors: ------\n"
     ]
    },
    {
     "name": "stdout",
     "output_type": "stream",
     "text": [
      "New stops:\n",
      "{'R32S', 'N02S', 'N05S', 'R06S', 'R27S', 'R39S', 'D23S', 'Q01S', 'R65S', 'R70S', 'Q04S', 'R16S', 'R26S', 'R28S', 'Q05S', 'R04S', 'R34S', 'R30S', 'R25S', 'R15S', 'R03S', 'R29S', 'R05S', 'R08S', 'R65N', 'R70N', 'R17S', 'R31S', 'R01S', 'R35S', 'R11S', 'N09S', 'N07S', 'D43S', 'R23S', 'R18S', 'Q03S', 'R60S', 'Q01N', 'R41S', 'R19S', 'N10S', 'N06S', 'B08S', 'R22S', 'N03S', 'R24S', 'R33S', 'R40S', 'R10N', 'R36S', 'N08S', 'R13S', 'R60N', 'R21S', 'R14S', 'R09S', 'N12S', 'N12N', 'R20S', 'N04S'}\n"
     ]
    },
    {
     "name": "stderr",
     "output_type": "stream",
     "text": [
      "100%|#####################################|entries: ------decode_errors: ------\n"
     ]
    },
    {
     "name": "stdout",
     "output_type": "stream",
     "text": [
      "New stops:\n",
      "{'R32S', 'N02S', 'N05S', 'R06S', 'R27S', 'R39S', 'Q01S', 'R65S', 'R70S', 'Q04S', 'R16S', 'R26S', 'R28S', 'Q05S', 'R25S', 'R34S', 'R30S', 'R04S', 'R15S', 'R03S', 'R29S', 'R05S', 'R65N', 'R08S', 'R70N', 'R17S', 'R31S', 'R01S', 'R35S', 'R11S', 'N09S', 'N07S', 'R23S', 'D43S', 'R18S', 'Q03S', 'R41S', 'Q01N', 'R60S', 'R19S', 'N10S', 'N06S', 'B08S', 'N03S', 'R24S', 'R33S', 'R40S', 'R36S', 'R13S', 'N08S', 'R60N', 'R21S', 'R14S', 'R09S', 'R22S', 'R20S', 'N04S'}\n"
     ]
    },
    {
     "name": "stderr",
     "output_type": "stream",
     "text": [
      " 78%|#############################        |entries: ------decode_errors: ------"
     ]
    },
    {
     "name": "stdout",
     "output_type": "stream",
     "text": [
      "wrote: /data/raw/status/status_northbound_n_schedule/201904/20190419.h5\n",
      "2019-04-19 00:00:00-04:00 - 2019-04-19 23:59:59-04:00 Done\n"
     ]
    },
    {
     "name": "stderr",
     "output_type": "stream",
     "text": [
      " 39%|##############                       |entries: ------decode_errors: ------"
     ]
    },
    {
     "name": "stdout",
     "output_type": "stream",
     "text": [
      "wrote: /data/raw/status/status_northbound_n_schedule/201904/20190429.h5\n",
      "2019-04-29 00:00:00-04:00 - 2019-04-29 23:59:59-04:00 Done\n",
      "25944719\n",
      "25944839\n"
     ]
    },
    {
     "name": "stderr",
     "output_type": "stream",
     "text": [
      "100%|#####################################|entries: ------decode_errors:      1\n"
     ]
    },
    {
     "name": "stdout",
     "output_type": "stream",
     "text": [
      "New stops:\n",
      "{'R32S', 'D23N', 'R06S', 'B17N', 'R65S', 'D15N', 'R26S', 'R25S', 'R30S', 'B18N', 'R05S', 'R29S', 'A21N', 'R31S', 'B15N', 'N09S', 'B08N', 'D16N', 'A24N', 'D21N', 'R41S', 'Q01N', 'R60S', 'A20N', 'N06S', 'B08S', 'A22N', 'N03S', 'B20N', 'R33S', 'R10N', 'B22N', 'R21S', 'A19N', 'R14S', 'N12S', 'R22S', 'D14N', 'N02S', 'N05S', 'R27S', 'R10S', 'Q03N', 'Q05S', 'R03S', 'R70N', 'R11S', 'B19N', 'R20S', 'R24S', 'R40S', 'Q04N', 'D17N', 'R60N', 'R09S', 'N04S', 'R39S', 'B16N', 'R16S', 'B23N', 'R04S', 'R34S', 'R15S', 'R65N', 'R17S', 'R01S', 'R35S', 'B24N', 'R23S', 'D22N', 'B13N', 'N10S', 'R13S', 'N12N', 'R18S', 'Q01S', 'R28S', 'B10N', 'R08S', 'N07S', 'B14N', 'D43S', 'Q03S', 'R19S', 'B21N', 'D20N', 'B12N', 'R36S', 'N08S', 'Q05N', 'Q04S'}\n"
     ]
    },
    {
     "name": "stderr",
     "output_type": "stream",
     "text": [
      " 54%|####################                 |entries: ------decode_errors: ------"
     ]
    },
    {
     "name": "stdout",
     "output_type": "stream",
     "text": [
      "wrote: /data/raw/status/status_northbound_n_schedule/201904/20190422.h5\n",
      "2019-04-22 00:00:00-04:00 - 2019-04-22 23:59:59-04:00 Done\n"
     ]
    },
    {
     "name": "stderr",
     "output_type": "stream",
     "text": [
      " 27%|##########                           |entries: ------decode_errors: ------"
     ]
    },
    {
     "name": "stdout",
     "output_type": "stream",
     "text": [
      "wrote: /data/raw/status/status_northbound_n_schedule/201904/20190425.h5\n",
      "2019-04-25 00:00:00-04:00 - 2019-04-25 23:59:59-04:00 Done\n"
     ]
    },
    {
     "name": "stderr",
     "output_type": "stream",
     "text": [
      "100%|#####################################|entries: ------decode_errors: ------\n"
     ]
    },
    {
     "name": "stdout",
     "output_type": "stream",
     "text": [
      "New stops:\n",
      "{'B12S', 'B15S', 'R32S', 'B19S', 'N05S', 'R06S', 'R27S', 'B17N', 'Q01S', 'R65S', 'B18S', 'B16N', 'R70S', 'R16S', 'R26S', 'R28S', 'B23N', 'B16S', 'R25S', 'B21S', 'R04S', 'R30S', 'R34S', 'B18N', 'R15S', 'B14S', 'R03S', 'R05S', 'R29S', 'R65N', 'B17S', 'R08S', 'R17S', 'R31S', 'R01S', 'B15N', 'B13S', 'R35S', 'R11S', 'N09S', 'N07S', 'B14N', 'B19N', 'R23S', 'D43S', 'R18S', 'B20S', 'B21N', 'B13N', 'Q01N', 'B12N', 'R60S', 'R19S', 'R20S', 'N06S', 'N10S', 'B20N', 'R24S', 'R33S', 'B22S', 'R36S', 'R13S', 'B22N', 'N08S', 'R60N', 'R21S', 'R14S', 'R09S', 'N12S', 'R22S', 'B23S', 'N04S'}\n"
     ]
    },
    {
     "name": "stderr",
     "output_type": "stream",
     "text": [
      " 67%|########################             |entries: ------decode_errors: ------"
     ]
    },
    {
     "name": "stdout",
     "output_type": "stream",
     "text": [
      "wrote: /data/raw/status/status_northbound_n_schedule/201904/20190427.h5\n",
      "2019-04-27 00:00:00-04:00 - 2019-04-27 23:59:59-04:00 Done\n",
      "25941839\n",
      "25941959\n"
     ]
    },
    {
     "name": "stderr",
     "output_type": "stream",
     "text": [
      "100%|#####################################|entries: ------decode_errors: ------\n"
     ]
    },
    {
     "name": "stdout",
     "output_type": "stream",
     "text": [
      "New stops:\n",
      "{'R32S', 'N02S', 'N05S', 'R06S', 'R27S', 'R39S', 'Q01S', 'R10S', 'R65S', 'Q04S', 'Q03N', 'R16S', 'R26S', 'R28S', 'Q05S', 'R25S', 'R04S', 'R30S', 'R34S', 'R15S', 'R03S', 'R29S', 'R08S', 'R65N', 'R05S', 'R70N', 'R17S', 'R31S', 'R01S', 'R35S', 'R11S', 'N09S', 'N07S', 'B08N', 'D43S', 'R23S', 'R18S', 'Q03S', 'R60S', 'Q01N', 'R41S', 'R19S', 'N10S', 'N06S', 'B08S', 'N03S', 'R24S', 'R33S', 'R40S', 'R10N', 'Q04N', 'R36S', 'N08S', 'R13S', 'R60N', 'R21S', 'Q05N', 'R14S', 'R09S', 'N12S', 'R22S', 'R20S', 'N04S'}\n"
     ]
    },
    {
     "name": "stderr",
     "output_type": "stream",
     "text": [
      " 60%|######################               |entries: ------decode_errors: ------"
     ]
    },
    {
     "name": "stdout",
     "output_type": "stream",
     "text": [
      "wrote: /data/raw/status/status_northbound_n_schedule/201904/20190430.h5\n",
      "2019-04-30 00:00:00-04:00 - 2019-04-30 23:59:59-04:00 Done\n"
     ]
    },
    {
     "name": "stderr",
     "output_type": "stream",
     "text": [
      "100%|#####################################|entries: ------decode_errors: ------\n"
     ]
    },
    {
     "name": "stdout",
     "output_type": "stream",
     "text": [
      "New stops:\n",
      "{'B12S', 'B15S', 'B19S', 'R06S', 'R27S', 'B17N', 'Q01S', 'R65S', 'B18S', 'B16N', 'R16S', 'R26S', 'R28S', 'B23N', 'B16S', 'B21S', 'R30S', 'R25S', 'R04S', 'B18N', 'R15S', 'B14S', 'R29S', 'R03S', 'R05S', 'R65N', 'B17S', 'R08S', 'R17S', 'R31S', 'R01S', 'B13S', 'B15N', 'R11S', 'B14N', 'B19N', 'D43S', 'R23S', 'B20S', 'B13N', 'B21N', 'R60S', 'B12N', 'R19S', 'R22S', 'R20S', 'Q01N', 'B20N', 'R24S', 'B22S', 'R36S', 'R13S', 'B22N', 'R60N', 'R21S', 'R14S', 'R09S', 'R18S', 'B23S'}\n",
      "wrote: /data/raw/status/status_northbound_n_schedule/201904/20190428.h5\n",
      "2019-04-28 00:00:00-04:00 - 2019-04-28 23:59:59-04:00 Done\n"
     ]
    }
   ],
   "source": [
    "with Pool(6) as p:\n",
    "    p.map(f, loaders)"
   ]
  },
  {
   "cell_type": "code",
   "execution_count": 8,
   "metadata": {},
   "outputs": [
    {
     "name": "stderr",
     "output_type": "stream",
     "text": [
      "ERROR:root:No traceback has been produced, nothing to debug.\n"
     ]
    }
   ],
   "source": [
    "%debug"
   ]
  },
  {
   "cell_type": "code",
   "execution_count": 30,
   "metadata": {},
   "outputs": [
    {
     "name": "stdout",
     "output_type": "stream",
     "text": [
      "raw\n"
     ]
    }
   ],
   "source": [
    "!ls /opt/project/data"
   ]
  },
  {
   "cell_type": "code",
   "execution_count": 20,
   "metadata": {},
   "outputs": [
    {
     "data": {
      "text/plain": [
       "<matplotlib.axes._subplots.AxesSubplot at 0x7f013988bbe0>"
      ]
     },
     "execution_count": 20,
     "metadata": {},
     "output_type": "execute_result"
    },
    {
     "data": {
      "image/png": "[encoded data removed]",
      "text/plain": [
       "<Figure size 432x288 with 1 Axes>"
      ]
     },
     "metadata": {
      "needs_background": "light"
     },
     "output_type": "display_data"
    }
   ],
   "source": [
    "pd.read_hdf('../data/raw/status/status_northbound_n_new/201808/20180801.h5', key='min_until_train')['R16N'].plot()"
   ]
  },
  {
   "cell_type": "code",
   "execution_count": 21,
   "metadata": {},
   "outputs": [
    {
     "data": {
      "text/plain": [
       "<matplotlib.axes._subplots.AxesSubplot at 0x7f013a034400>"
      ]
     },
     "execution_count": 21,
     "metadata": {},
     "output_type": "execute_result"
    },
    {
     "data": {
      "image/png": "[encoded data removed]",
      "text/plain": [
       "<Figure size 432x288 with 1 Axes>"
      ]
     },
     "metadata": {
      "needs_background": "light"
     },
     "output_type": "display_data"
    }
   ],
   "source": [
    "pd.read_hdf('../data/raw/status/status_northbound_n_new/201808/20180801.h5', key='min_since_train')['R16N'].plot()"
   ]
  },
  {
   "cell_type": "code",
   "execution_count": null,
   "metadata": {},
   "outputs": [],
   "source": []
  }
 ],
 "metadata": {
  "kernelspec": {
   "display_name": "Python 3",
   "language": "python",
   "name": "python3"
  },
  "language_info": {
   "codemirror_mode": {
    "name": "ipython",
    "version": 3
   },
   "file_extension": ".py",
   "mimetype": "text/x-python",
   "name": "python",
   "nbconvert_exporter": "python",
   "pygments_lexer": "ipython3",
   "version": "3.6.7"
  }
 },
 "nbformat": 4,
 "nbformat_minor": 4
}
