{
 "cells": [
  {
   "cell_type": "markdown",
   "metadata": {},
   "source": [
    "### Scraping MTA status archive using selenium\n",
    "\n",
    "Scraping historical MTA alert archive using selenium, inspired by:\n",
    "\n",
    "https://medium.com/the-andela-way/introduction-to-web-scraping-using-selenium-7ec377a8cf72"
   ]
  },
  {
   "cell_type": "code",
   "execution_count": 16,
   "metadata": {},
   "outputs": [],
   "source": [
    "# relative MTADelayPredict Project\n",
    "import sys\n",
    "import os\n",
    "sys.path.append(os.path.dirname(os.path.dirname(os.path.realpath(os.path.join('AlertScraper.ipynb')))))\n",
    "from MTADelayPredict.utils import scrape_helpers"
   ]
  },
  {
   "cell_type": "code",
   "execution_count": 1,
   "metadata": {},
   "outputs": [],
   "source": [
    "import progressbar"
   ]
  },
  {
   "cell_type": "code",
   "execution_count": 17,
   "metadata": {},
   "outputs": [],
   "source": [
    "from selenium import webdriver \n",
    "from selenium.webdriver.common.by import By \n",
    "\n",
    "from selenium.webdriver.support.ui import WebDriverWait \n",
    "from selenium.webdriver.support import expected_conditions as EC \n",
    "from selenium.common.exceptions import TimeoutException\n",
    "import chromedriver_binary  # Adds chromedriver binary to path\n",
    "import time\n",
    "import pandas as pd\n",
    "import re\n",
    "import os\n"
   ]
  },
  {
   "cell_type": "code",
   "execution_count": 18,
   "metadata": {},
   "outputs": [],
   "source": [
    "from importlib import reload"
   ]
  },
  {
   "cell_type": "code",
   "execution_count": 19,
   "metadata": {},
   "outputs": [],
   "source": [
    "# need to add headless and dev shm usage\n",
    "# https://github.com/heroku/heroku-buildpack-google-chrome/issues/46\n",
    "\n",
    "option = webdriver.ChromeOptions()\n",
    "option.add_argument(\"--incognito\")\n",
    "option.add_argument(\"--disable-dev-shm-usage\")\n",
    "option.add_argument(\"--no-sandbox\")\n",
    "option.add_argument(\"--headless\")"
   ]
  },
  {
   "cell_type": "code",
   "execution_count": 20,
   "metadata": {},
   "outputs": [],
   "source": [
    "browser = webdriver.Chrome(executable_path='/usr/bin/chromedriver',\n",
    "                           options=option)"
   ]
  },
  {
   "cell_type": "code",
   "execution_count": 21,
   "metadata": {},
   "outputs": [],
   "source": [
    "browser.get('https://m.mymtaalerts.com/archive')"
   ]
  },
  {
   "cell_type": "markdown",
   "metadata": {},
   "source": [
    "### Iterate through all the data entries by clicking \"next\" on the MTA webform"
   ]
  },
  {
   "cell_type": "code",
   "execution_count": null,
   "metadata": {},
   "outputs": [
    {
     "name": "stderr",
     "output_type": "stream",
     "text": [
      " 64%|######################################                      |date: 1/12/19"
     ]
    }
   ],
   "source": [
    "download_start = '2019-01-01'\n",
    "download_end = '2019-12-31'\n",
    "drange = pd.date_range(start=download_start, end=download_end, freq='M')\n",
    "data_dir = os.path.join('../data/raw/alerts')\n",
    "\n",
    "for i,m in enumerate(drange):\n",
    "    start_date = m.replace(day=1).strftime('%m/%d/%Y')\n",
    "    end_date = m.strftime('%m/%d/%Y')\n",
    "    \n",
    "    browser = webdriver.Chrome(executable_path='/usr/bin/chromedriver',\n",
    "                           options=option)\n",
    "    browser.get('https://m.mymtaalerts.com/archive')\n",
    "    \n",
    "    scrape_helpers.submit_dates(browser, start_date, end_date)\n",
    "    data_rows = scrape_helpers.scrape_data(browser)\n",
    "\n",
    "    # raw send monthly csv to disk\n",
    "    data_df = pd.DataFrame(data_rows, columns=['Date','Agency','Subject','Message'])\n",
    "    data_df.index = data_df.Date.map(pd.to_datetime)\n",
    "    #data_df['Type'] = data_df.Subject.map(lambda x:x.split(',')[-1])\n",
    "    data_df.drop(columns=['Date'], inplace=True)\n",
    "    \n",
    "    filename = 'raw_alerts_{}_{}.csv'.format(start_date, end_date)\n",
    "    filename = filename.replace('/', '.')\n",
    "    data_df.to_csv(os.path.join(data_dir, filename))\n",
    "    browser.quit()\n",
    "    \n",
    "    time.sleep(60)\n",
    "    \n",
    "    "
   ]
  },
  {
   "cell_type": "code",
   "execution_count": null,
   "metadata": {},
   "outputs": [],
   "source": [
    "browser.quit()"
   ]
  },
  {
   "cell_type": "markdown",
   "metadata": {},
   "source": [
    "### Generate Features\n",
    "#### TODO: Move to Feature Selection/Creation Notebook"
   ]
  },
  {
   "cell_type": "code",
   "execution_count": null,
   "metadata": {},
   "outputs": [],
   "source": [
    "import progressbar\n",
    "import sys\n",
    "import time"
   ]
  },
  {
   "cell_type": "code",
   "execution_count": null,
   "metadata": {},
   "outputs": [],
   "source": [
    "widgets = [progressbar.Percentage(), progressbar.Bar(), progressbar.Variable('date')]\n",
    "bar = progressbar.ProgressBar(widgets=widgets, max_value=10, ).start()\n",
    "for i in range(10):\n",
    "    # do something\n",
    "    time.sleep(0.1)\n",
    "    \n",
    "    bar.update(i + 1, date)\n",
    "bar.finish()"
   ]
  },
  {
   "cell_type": "code",
   "execution_count": null,
   "metadata": {},
   "outputs": [],
   "source": [
    "data_df = pd.DataFrame(data_rows, columns=['','Date','Agency','Subject','Message'])\n",
    "data_df.index = data_df.Date.map(pd.to_datetime)\n",
    "data_df['Type'] = data_df.Subject.map(lambda x:x.split(',')[-1])\n",
    "#data_df['Trains'] = \n",
    "data_df.drop(columns=['Date'], inplace=True)"
   ]
  },
  {
   "cell_type": "code",
   "execution_count": null,
   "metadata": {},
   "outputs": [],
   "source": [
    "status_regex = r'^(?P<Update>UPDATED:)? ?(?P<Borough>[A-Z]+), (?P<Trains>.+?) Trains?, (?P<Type>.*).*$'\n",
    "status = data_df.Subject.str.extract(status_regex, expand=True)\n",
    "status['Update'] = status['Update'] == 'UPDATED:'\n",
    "status['Trains'] = status['Trains'].str.replace(r'[^A-Z0-9]','')"
   ]
  },
  {
   "cell_type": "code",
   "execution_count": null,
   "metadata": {},
   "outputs": [],
   "source": [
    "status"
   ]
  },
  {
   "cell_type": "code",
   "execution_count": 552,
   "metadata": {},
   "outputs": [],
   "source": [
    "data_df = data_df.join(status)"
   ]
  },
  {
   "cell_type": "code",
   "execution_count": 558,
   "metadata": {},
   "outputs": [],
   "source": [
    "data_dir = 'data'\n",
    "data_df.to_csv(os.path.join(data_dir, 'mta_{}_{}.csv'.format(download_start, download_end)))"
   ]
  },
  {
   "cell_type": "code",
   "execution_count": 501,
   "metadata": {},
   "outputs": [
    {
     "data": {
      "text/plain": [
       "('UPDATED: ', 'BKLYN', 'G', 'Mechanical Problems')"
      ]
     },
     "execution_count": 501,
     "metadata": {},
     "output_type": "execute_result"
    }
   ],
   "source": [
    "r = re.compile(r'^(?P<update>UPDATED: )?(?P<borough>[A-Z]+), (?P<trains>.+?) Trains?, (?P<type>.*).*$')\n",
    "r.match(data_df.Subject[10]).groups()"
   ]
  },
  {
   "cell_type": "code",
   "execution_count": 7,
   "metadata": {},
   "outputs": [],
   "source": [
    "browser.quit()"
   ]
  },
  {
   "cell_type": "code",
   "execution_count": 559,
   "metadata": {
    "collapsed": true,
    "jupyter": {
     "outputs_hidden": true
    }
   },
   "outputs": [
    {
     "data": {
      "text/html": [
       "<div>\n",
       "<style scoped>\n",
       "    .dataframe tbody tr th:only-of-type {\n",
       "        vertical-align: middle;\n",
       "    }\n",
       "\n",
       "    .dataframe tbody tr th {\n",
       "        vertical-align: top;\n",
       "    }\n",
       "\n",
       "    .dataframe thead th {\n",
       "        text-align: right;\n",
       "    }\n",
       "</style>\n",
       "<table border=\"1\" class=\"dataframe\">\n",
       "  <thead>\n",
       "    <tr style=\"text-align: right;\">\n",
       "      <th></th>\n",
       "      <th></th>\n",
       "      <th>Agency</th>\n",
       "      <th>Subject</th>\n",
       "      <th>Message</th>\n",
       "      <th>Type</th>\n",
       "      <th>Updated</th>\n",
       "      <th>update</th>\n",
       "      <th>borough</th>\n",
       "      <th>trains</th>\n",
       "      <th>type</th>\n",
       "    </tr>\n",
       "    <tr>\n",
       "      <th>Date</th>\n",
       "      <th></th>\n",
       "      <th></th>\n",
       "      <th></th>\n",
       "      <th></th>\n",
       "      <th></th>\n",
       "      <th></th>\n",
       "      <th></th>\n",
       "      <th></th>\n",
       "      <th></th>\n",
       "      <th></th>\n",
       "    </tr>\n",
       "  </thead>\n",
       "  <tbody>\n",
       "    <tr>\n",
       "      <th>2014-04-17 01:59:00</th>\n",
       "      <td></td>\n",
       "      <td>NYC</td>\n",
       "      <td>BKLYN, 2 Trains, Rail Condition</td>\n",
       "      <td>s/b 2 trains delayed, due to a rail condition ...</td>\n",
       "      <td>Rail Condition</td>\n",
       "      <td>False</td>\n",
       "      <td>False</td>\n",
       "      <td>BKLYN</td>\n",
       "      <td>2</td>\n",
       "      <td>Rail Condition</td>\n",
       "    </tr>\n",
       "    <tr>\n",
       "      <th>2014-04-17 02:05:00</th>\n",
       "      <td></td>\n",
       "      <td>NYC</td>\n",
       "      <td>UPDATED: BKLYN, 2 Trains, Rail Condition</td>\n",
       "      <td>Following an earlier incident at Church Av, 2 ...</td>\n",
       "      <td>Rail Condition</td>\n",
       "      <td>True</td>\n",
       "      <td>True</td>\n",
       "      <td>BKLYN</td>\n",
       "      <td>2</td>\n",
       "      <td>Rail Condition</td>\n",
       "    </tr>\n",
       "    <tr>\n",
       "      <th>2014-04-17 02:14:00</th>\n",
       "      <td></td>\n",
       "      <td>NYC</td>\n",
       "      <td>SI, Staten Island Railroad, FDNY Activity</td>\n",
       "      <td>b/d no SIR service b/t Oakwood Hts and Eltingv...</td>\n",
       "      <td>FDNY Activity</td>\n",
       "      <td>False</td>\n",
       "      <td>False</td>\n",
       "      <td>NaN</td>\n",
       "      <td>NaN</td>\n",
       "      <td>NaN</td>\n",
       "    </tr>\n",
       "    <tr>\n",
       "      <th>2014-04-17 02:53:00</th>\n",
       "      <td></td>\n",
       "      <td>NYC</td>\n",
       "      <td>MANH, A &amp; E Trains, Rail Condition</td>\n",
       "      <td>n/b A trains running exp from Canal St to 59 S...</td>\n",
       "      <td>Rail Condition</td>\n",
       "      <td>False</td>\n",
       "      <td>False</td>\n",
       "      <td>MANH</td>\n",
       "      <td>AE</td>\n",
       "      <td>Rail Condition</td>\n",
       "    </tr>\n",
       "    <tr>\n",
       "      <th>2014-04-17 03:03:00</th>\n",
       "      <td></td>\n",
       "      <td>NYC</td>\n",
       "      <td>UPDATED: MANH, A &amp; E Trains, Rail Condition</td>\n",
       "      <td>n/b A trains running exp from Canal St to 59 S...</td>\n",
       "      <td>Rail Condition</td>\n",
       "      <td>True</td>\n",
       "      <td>True</td>\n",
       "      <td>MANH</td>\n",
       "      <td>AE</td>\n",
       "      <td>Rail Condition</td>\n",
       "    </tr>\n",
       "    <tr>\n",
       "      <th>...</th>\n",
       "      <td>...</td>\n",
       "      <td>...</td>\n",
       "      <td>...</td>\n",
       "      <td>...</td>\n",
       "      <td>...</td>\n",
       "      <td>...</td>\n",
       "      <td>...</td>\n",
       "      <td>...</td>\n",
       "      <td>...</td>\n",
       "      <td>...</td>\n",
       "    </tr>\n",
       "    <tr>\n",
       "      <th>2014-04-17 19:45:00</th>\n",
       "      <td></td>\n",
       "      <td>NYC</td>\n",
       "      <td>UPDATED: BKLYN, L Trains, Sick Customer</td>\n",
       "      <td>Following an earlier incident at Atlantic Av, ...</td>\n",
       "      <td>Sick Customer</td>\n",
       "      <td>True</td>\n",
       "      <td>True</td>\n",
       "      <td>BKLYN</td>\n",
       "      <td>L</td>\n",
       "      <td>Sick Customer</td>\n",
       "    </tr>\n",
       "    <tr>\n",
       "      <th>2014-04-17 19:49:00</th>\n",
       "      <td></td>\n",
       "      <td>NYC</td>\n",
       "      <td>MANH, 2 Trains, Mechanical Problems</td>\n",
       "      <td>s/b, 2 trains via 5 from 149 St to Nevins St, ...</td>\n",
       "      <td>Mechanical Problems</td>\n",
       "      <td>False</td>\n",
       "      <td>False</td>\n",
       "      <td>MANH</td>\n",
       "      <td>2</td>\n",
       "      <td>Mechanical Problems</td>\n",
       "    </tr>\n",
       "    <tr>\n",
       "      <th>2014-04-17 19:58:00</th>\n",
       "      <td></td>\n",
       "      <td>NYC</td>\n",
       "      <td>UPDATED: MANH, 2 Trains, Mechanical Problems</td>\n",
       "      <td>some s/b, 2 via 5 from 149 St to Nevins St &amp; s...</td>\n",
       "      <td>Mechanical Problems</td>\n",
       "      <td>True</td>\n",
       "      <td>True</td>\n",
       "      <td>MANH</td>\n",
       "      <td>2</td>\n",
       "      <td>Mechanical Problems</td>\n",
       "    </tr>\n",
       "    <tr>\n",
       "      <th>2014-04-17 20:14:00</th>\n",
       "      <td></td>\n",
       "      <td>NYC</td>\n",
       "      <td>UPDATED: MANH, 2 and 3 Trains, Mechanical Prob...</td>\n",
       "      <td>Following an earlier incident at Chambers St, ...</td>\n",
       "      <td>Mechanical Problems</td>\n",
       "      <td>True</td>\n",
       "      <td>True</td>\n",
       "      <td>MANH</td>\n",
       "      <td>23</td>\n",
       "      <td>Mechanical Problems</td>\n",
       "    </tr>\n",
       "    <tr>\n",
       "      <th>2014-04-17 20:18:00</th>\n",
       "      <td></td>\n",
       "      <td>NYC</td>\n",
       "      <td>UPDATED: MANH, R Trains, Mechanical Problems</td>\n",
       "      <td>Following an earlier incident at Canal St, R t...</td>\n",
       "      <td>Mechanical Problems</td>\n",
       "      <td>True</td>\n",
       "      <td>True</td>\n",
       "      <td>MANH</td>\n",
       "      <td>R</td>\n",
       "      <td>Mechanical Problems</td>\n",
       "    </tr>\n",
       "  </tbody>\n",
       "</table>\n",
       "<p>74 rows × 10 columns</p>\n",
       "</div>"
      ],
      "text/plain": [
       "                       Agency  \\\n",
       "Date                            \n",
       "2014-04-17 01:59:00       NYC   \n",
       "2014-04-17 02:05:00       NYC   \n",
       "2014-04-17 02:14:00       NYC   \n",
       "2014-04-17 02:53:00       NYC   \n",
       "2014-04-17 03:03:00       NYC   \n",
       "...                 ..    ...   \n",
       "2014-04-17 19:45:00       NYC   \n",
       "2014-04-17 19:49:00       NYC   \n",
       "2014-04-17 19:58:00       NYC   \n",
       "2014-04-17 20:14:00       NYC   \n",
       "2014-04-17 20:18:00       NYC   \n",
       "\n",
       "                                                               Subject  \\\n",
       "Date                                                                     \n",
       "2014-04-17 01:59:00                    BKLYN, 2 Trains, Rail Condition   \n",
       "2014-04-17 02:05:00           UPDATED: BKLYN, 2 Trains, Rail Condition   \n",
       "2014-04-17 02:14:00          SI, Staten Island Railroad, FDNY Activity   \n",
       "2014-04-17 02:53:00                 MANH, A & E Trains, Rail Condition   \n",
       "2014-04-17 03:03:00        UPDATED: MANH, A & E Trains, Rail Condition   \n",
       "...                                                                ...   \n",
       "2014-04-17 19:45:00            UPDATED: BKLYN, L Trains, Sick Customer   \n",
       "2014-04-17 19:49:00                MANH, 2 Trains, Mechanical Problems   \n",
       "2014-04-17 19:58:00       UPDATED: MANH, 2 Trains, Mechanical Problems   \n",
       "2014-04-17 20:14:00  UPDATED: MANH, 2 and 3 Trains, Mechanical Prob...   \n",
       "2014-04-17 20:18:00       UPDATED: MANH, R Trains, Mechanical Problems   \n",
       "\n",
       "                                                               Message  \\\n",
       "Date                                                                     \n",
       "2014-04-17 01:59:00  s/b 2 trains delayed, due to a rail condition ...   \n",
       "2014-04-17 02:05:00  Following an earlier incident at Church Av, 2 ...   \n",
       "2014-04-17 02:14:00  b/d no SIR service b/t Oakwood Hts and Eltingv...   \n",
       "2014-04-17 02:53:00  n/b A trains running exp from Canal St to 59 S...   \n",
       "2014-04-17 03:03:00  n/b A trains running exp from Canal St to 59 S...   \n",
       "...                                                                ...   \n",
       "2014-04-17 19:45:00  Following an earlier incident at Atlantic Av, ...   \n",
       "2014-04-17 19:49:00  s/b, 2 trains via 5 from 149 St to Nevins St, ...   \n",
       "2014-04-17 19:58:00  some s/b, 2 via 5 from 149 St to Nevins St & s...   \n",
       "2014-04-17 20:14:00  Following an earlier incident at Chambers St, ...   \n",
       "2014-04-17 20:18:00  Following an earlier incident at Canal St, R t...   \n",
       "\n",
       "                                     Type  Updated  update borough trains  \\\n",
       "Date                                                                        \n",
       "2014-04-17 01:59:00        Rail Condition    False   False   BKLYN      2   \n",
       "2014-04-17 02:05:00        Rail Condition     True    True   BKLYN      2   \n",
       "2014-04-17 02:14:00         FDNY Activity    False   False     NaN    NaN   \n",
       "2014-04-17 02:53:00        Rail Condition    False   False    MANH     AE   \n",
       "2014-04-17 03:03:00        Rail Condition     True    True    MANH     AE   \n",
       "...                                   ...      ...     ...     ...    ...   \n",
       "2014-04-17 19:45:00         Sick Customer     True    True   BKLYN      L   \n",
       "2014-04-17 19:49:00   Mechanical Problems    False   False    MANH      2   \n",
       "2014-04-17 19:58:00   Mechanical Problems     True    True    MANH      2   \n",
       "2014-04-17 20:14:00   Mechanical Problems     True    True    MANH     23   \n",
       "2014-04-17 20:18:00   Mechanical Problems     True    True    MANH      R   \n",
       "\n",
       "                                    type  \n",
       "Date                                      \n",
       "2014-04-17 01:59:00       Rail Condition  \n",
       "2014-04-17 02:05:00       Rail Condition  \n",
       "2014-04-17 02:14:00                  NaN  \n",
       "2014-04-17 02:53:00       Rail Condition  \n",
       "2014-04-17 03:03:00       Rail Condition  \n",
       "...                                  ...  \n",
       "2014-04-17 19:45:00        Sick Customer  \n",
       "2014-04-17 19:49:00  Mechanical Problems  \n",
       "2014-04-17 19:58:00  Mechanical Problems  \n",
       "2014-04-17 20:14:00  Mechanical Problems  \n",
       "2014-04-17 20:18:00  Mechanical Problems  \n",
       "\n",
       "[74 rows x 10 columns]"
      ]
     },
     "execution_count": 559,
     "metadata": {},
     "output_type": "execute_result"
    }
   ],
   "source": [
    "data_df"
   ]
  },
  {
   "cell_type": "code",
   "execution_count": null,
   "metadata": {},
   "outputs": [],
   "source": []
  }
 ],
 "metadata": {
  "kernelspec": {
   "display_name": "Python 3",
   "language": "python",
   "name": "python3"
  },
  "language_info": {
   "codemirror_mode": {
    "name": "ipython",
    "version": 3
   },
   "file_extension": ".py",
   "mimetype": "text/x-python",
   "name": "python",
   "nbconvert_exporter": "python",
   "pygments_lexer": "ipython3",
   "version": "3.7.6"
  }
 },
 "nbformat": 4,
 "nbformat_minor": 4
}
