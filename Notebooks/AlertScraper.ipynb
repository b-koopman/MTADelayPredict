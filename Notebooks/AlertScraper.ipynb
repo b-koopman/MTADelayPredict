{
 "cells": [
  {
   "cell_type": "markdown",
   "metadata": {},
   "source": [
    "# Scrape MTA status archive using Selenium\n",
    "\n",
    "Scraping historical MTA alert archive using selenium, inspired by:\n",
    "\n",
    "https://medium.com/the-andela-way/introduction-to-web-scraping-using-selenium-7ec377a8cf72"
   ]
  },
  {
   "cell_type": "code",
   "execution_count": null,
   "metadata": {},
   "outputs": [],
   "source": [
    "# relative MTADelayPredict Project\n",
    "import sys\n",
    "import os\n",
    "sys.path.append(os.path.dirname(os.path.dirname(os.path.realpath(os.path.join('AlertScraper.ipynb')))))\n",
    "from MTADelayPredict.utils import scrape_helpers"
   ]
  },
  {
   "cell_type": "code",
   "execution_count": null,
   "metadata": {},
   "outputs": [],
   "source": [
    "# selenium imports\n",
    "from selenium import webdriver \n",
    "from selenium.webdriver.common.by import By \n",
    "from selenium.webdriver.support.ui import WebDriverWait \n",
    "from selenium.webdriver.support import expected_conditions as EC \n",
    "from selenium.common.exceptions import TimeoutException\n",
    "import chromedriver_binary  # Adds chromedriver binary to path\n"
   ]
  },
  {
   "cell_type": "code",
   "execution_count": null,
   "metadata": {},
   "outputs": [],
   "source": [
    "import time\n",
    "import pandas as pd\n",
    "import re\n",
    "import os\n",
    "from importlib import reload\n",
    "import progressbar"
   ]
  },
  {
   "cell_type": "code",
   "execution_count": null,
   "metadata": {},
   "outputs": [],
   "source": [
    "# need to add headless and dev shm usage, suggested here:\n",
    "# https://github.com/heroku/heroku-buildpack-google-chrome/issues/46\n",
    "\n",
    "# Set up selenium browser\n",
    "option = webdriver.ChromeOptions()\n",
    "option.add_argument(\"--incognito\")\n",
    "option.add_argument(\"--disable-dev-shm-usage\")\n",
    "option.add_argument(\"--no-sandbox\")\n",
    "option.add_argument(\"--headless\")\n"
   ]
  },
  {
   "cell_type": "markdown",
   "metadata": {},
   "source": [
    "### Iterate through all the data entries by clicking \"next\" on the MTA webform"
   ]
  },
  {
   "cell_type": "code",
   "execution_count": null,
   "metadata": {},
   "outputs": [],
   "source": [
    "# Date range to download monthly alerts over\n",
    "download_start = '2019-01-01'\n",
    "download_end = '2019-01-31'\n",
    "\n",
    "\n",
    "drange = pd.date_range(start=download_start, end=download_end, freq='M')\n",
    "data_dir = os.path.join('../data/raw/alerts')\n",
    "\n",
    "if not os.path.exists(data_dir):\n",
    "    os.makedirs(data_dir)\n",
    "\n",
    "# Fetch alert data in monthly blocks\n",
    "for i,m in enumerate(drange):\n",
    "    start_date = m.replace(day=1).strftime('%m/%d/%Y')\n",
    "    end_date = m.strftime('%m/%d/%Y')\n",
    "    \n",
    "    # Set up a new chrome browser\n",
    "    browser = webdriver.Chrome(executable_path='/usr/bin/chromedriver',\n",
    "                           options=option)\n",
    "    browser.get('https://m.mymtaalerts.com/archive')\n",
    "    \n",
    "    # Use helpers to submit date range and then collect data\n",
    "    scrape_helpers.submit_dates(browser, start_date, end_date)\n",
    "    data_rows = scrape_helpers.scrape_data(browser)\n",
    "\n",
    "    # raw send monthly csv to disk\n",
    "    data_df = pd.DataFrame(data_rows, columns=['Date','Agency','Subject','Message'])\n",
    "    data_df.index = data_df.Date.map(pd.to_datetime)\n",
    "    #data_df['Type'] = data_df.Subject.map(lambda x:x.split(',')[-1])\n",
    "    data_df.drop(columns=['Date'], inplace=True)\n",
    "    \n",
    "    filename = 'raw_alerts_{}_{}.csv'.format(start_date, end_date)\n",
    "    filename = filename.replace('/', '.')\n",
    "    data_df.to_csv(os.path.join(data_dir, filename))\n",
    "    browser.quit()\n",
    "    \n",
    "    # Wait a bit to be friendly\n",
    "    time.sleep(10)\n",
    "    \n",
    "browser.quit()"
   ]
  }
 ],
 "metadata": {
  "kernelspec": {
   "display_name": "Python 3",
   "language": "python",
   "name": "python3"
  },
  "language_info": {
   "codemirror_mode": {
    "name": "ipython",
    "version": 3
   },
   "file_extension": ".py",
   "mimetype": "text/x-python",
   "name": "python",
   "nbconvert_exporter": "python",
   "pygments_lexer": "ipython3",
   "version": "3.7.6"
  }
 },
 "nbformat": 4,
 "nbformat_minor": 4
}
